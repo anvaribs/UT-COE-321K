{
  "nbformat": 4,
  "nbformat_minor": 0,
  "metadata": {
    "colab": {
      "name": "COE 321K-basics.ipynb",
      "version": "0.3.2",
      "provenance": [],
      "collapsed_sections": [],
      "toc_visible": true,
      "include_colab_link": true
    },
    "kernelspec": {
      "name": "python3",
      "display_name": "Python 3"
    }
  },
  "cells": [
    {
      "cell_type": "markdown",
      "metadata": {
        "id": "view-in-github",
        "colab_type": "text"
      },
      "source": [
        "<a href=\"https://colab.research.google.com/github/anvaribs/UT-COE-321K/blob/master/COE_321K_basics.ipynb\" target=\"_parent\"><img src=\"https://colab.research.google.com/assets/colab-badge.svg\" alt=\"Open In Colab\"/></a>"
      ]
    },
    {
      "metadata": {
        "id": "o8v51IzCcJdU",
        "colab_type": "text"
      },
      "cell_type": "markdown",
      "source": [
        "# Announcements:\n",
        "\n",
        "---\n",
        "\n",
        "\n",
        "\n",
        "### 1. HW#3 is due on **March 4, 2019**. \n",
        "### 2. Please follow all the guidelines for submitting your assignment. \n",
        "### 3. You should submit your assignment through **Canvas**. \n",
        "### 4. You should submit a PDF (hwX_yourEID.pdf) of your write-up and a zip file including all your source codes through Canvas. Name this zip file **hwX_yourEID.zip**.\n",
        "### 5. You can resubmit your assignment before the deadline.\n",
        "### 6. Only the most recent submission would be graded."
      ]
    },
    {
      "metadata": {
        "id": "MMjhMTg_gWMZ",
        "colab_type": "text"
      },
      "cell_type": "markdown",
      "source": [
        "# Agenda:\n",
        "\n",
        "\n",
        "\n",
        " - What is google Colab? Why do we use it?\n",
        " - Intro to Python and Numpy library for numerical computation.\n",
        " - Intro to [Fenics](https://fenicsproject.org/)  using high-level Python API.\n",
        " - Example programs to solve Solid Mechanics problems.\n",
        "\n",
        "\n",
        "\n",
        " "
      ]
    },
    {
      "metadata": {
        "id": "SqDP78Lzb6_m",
        "colab_type": "text"
      },
      "cell_type": "markdown",
      "source": [
        "# Google Colab\n",
        "\n",
        "**You can think of Google Colab as Jupyter Notebook stored in google cloud! **\n",
        "\n",
        "1. Everything runs on cloud. You do not have to install or build anything on your local machine. You do not have to be worried about dependencies locally. \n",
        "2. It allows you to share your work with me and other TAs, see [this](https://support.google.com/drive/answer/2494822?co=GENIE.Platform%3DDesktop&hl=en). We can run your code in a completely consistent enviroment and figure out what is going wrong.\n",
        "* For interaction between colab and github see, [Using Colab with GitHub](https://colab.research.google.com/github/googlecolab/colabtools/blob/master/notebooks/colab-github-demo.ipynb)\n",
        "3. You can also use a GPU to run your code.\n",
        "4. You can extend the power of the notebook by installing new libraries using pip install.\n",
        "5. Google colab integrates nicely with Github, so that you can load notebooks from Github and also save notebooks to Github.\n",
        "\n",
        "\n",
        "\n",
        "\n",
        "**Note**: Environmental variables and libraries that you build does not persist accross multiple sessions."
      ]
    },
    {
      "metadata": {
        "id": "N3NikCfUfK62",
        "colab_type": "code",
        "colab": {
          "base_uri": "https://localhost:8080/",
          "height": 51
        },
        "outputId": "74d95092-6b04-4bc0-de36-3e7a2db81b33"
      },
      "cell_type": "code",
      "source": [
        "print(\"Show available RAM memory:\")\n",
        "!cat /proc/meminfo | grep MemTotal"
      ],
      "execution_count": 1,
      "outputs": [
        {
          "output_type": "stream",
          "text": [
            "Show available RAM memory:\n",
            "MemTotal:       13335276 kB\n"
          ],
          "name": "stdout"
        }
      ]
    },
    {
      "metadata": {
        "id": "ULdNMNuwfmWH",
        "colab_type": "code",
        "colab": {}
      },
      "cell_type": "code",
      "source": [
        "# print(\"Check CPUs info:\")\n",
        "# !cat /proc/cpuinfo"
      ],
      "execution_count": 0,
      "outputs": []
    },
    {
      "metadata": {
        "id": "T6E63Ijxsj0f",
        "colab_type": "code",
        "colab": {}
      },
      "cell_type": "code",
      "source": [
        "!pip install -q matplotlib-venn\n",
        "\n",
        "import matplotlib_venn as venn"
      ],
      "execution_count": 0,
      "outputs": []
    },
    {
      "metadata": {
        "id": "v6hfR_9mh3W2",
        "colab_type": "text"
      },
      "cell_type": "markdown",
      "source": [
        "# A quick intro to Jupyter notebook"
      ]
    },
    {
      "metadata": {
        "id": "Ghea_kxeu-f0",
        "colab_type": "text"
      },
      "cell_type": "markdown",
      "source": [
        "A notebook is a collection of cells. Cells can contain text, or executable code and it's outputs. Text cells use markdown syntax. See this [markdown guide](https://colab.research.google.com/notebooks/markdown_guide.ipynb) to learn more.  "
      ]
    },
    {
      "metadata": {
        "id": "rS8MagZeoVn_",
        "colab_type": "text"
      },
      "cell_type": "markdown",
      "source": [
        "You can easily call the system commands within the jupyter using a ! sign."
      ]
    },
    {
      "metadata": {
        "id": "bFWVp2_Auxrm",
        "colab_type": "code",
        "colab": {
          "base_uri": "https://localhost:8080/",
          "height": 51
        },
        "outputId": "03a028d5-ff6f-48d7-92a8-931be0fcfec0"
      },
      "cell_type": "code",
      "source": [
        "!mkdir FEM_mesh\n",
        "!ls"
      ],
      "execution_count": 4,
      "outputs": [
        {
          "output_type": "stream",
          "text": [
            "mkdir: cannot create directory ‘FEM_mesh’: File exists\n",
            "FEM_mesh  sample_data\n"
          ],
          "name": "stdout"
        }
      ]
    },
    {
      "metadata": {
        "id": "OAij1Efph8N6",
        "colab_type": "text"
      },
      "cell_type": "markdown",
      "source": [
        "## This is a heading\n",
        "\n",
        "You can have lists as well.\n",
        "- first item\n",
        "- second item\n",
        "- third item\n",
        "\n",
        "You can easily include Math formulas using [latex](https://www.latex-project.org/). You just need to place the statement within two **\\$** signs.\n",
        "\n",
        "$$\n",
        "\\int_0^\\pi \\sin^2(2x)\n",
        "$$\n",
        "\n",
        "Or for example, you can include matrices like this:\n",
        "\n",
        "$$A_{m,n} =\n",
        " \\begin{pmatrix}\n",
        "  a_{1,1} & a_{1,2} & \\cdots & a_{1,n} \\\\\n",
        "  a_{2,1} & a_{2,2} & \\cdots & a_{2,n} \\\\\n",
        "  \\vdots  & \\vdots  & \\ddots & \\vdots  \\\\\n",
        "  a_{m,1} & a_{m,2} & \\cdots & a_{m,n}\n",
        " \\end{pmatrix}$$\n",
        " \n"
      ]
    },
    {
      "metadata": {
        "id": "rzn-KpOnDXep",
        "colab_type": "code",
        "colab": {
          "base_uri": "https://localhost:8080/",
          "height": 34
        },
        "outputId": "2cc3ce3e-8bb1-47c0-eb80-60170d7cc2e4"
      },
      "cell_type": "code",
      "source": [
        "# This is a code cell. \n",
        "# You can perform computations in Python in code cells and run them.\n",
        "\n",
        "7 ** 2"
      ],
      "execution_count": 5,
      "outputs": [
        {
          "output_type": "execute_result",
          "data": {
            "text/plain": [
              "49"
            ]
          },
          "metadata": {
            "tags": []
          },
          "execution_count": 5
        }
      ]
    },
    {
      "metadata": {
        "id": "tRYVpiPoFzub",
        "colab_type": "code",
        "colab": {
          "base_uri": "https://localhost:8080/",
          "height": 71
        },
        "outputId": "7d5a9035-a8c2-4c5c-d7f4-cd4f9cff761f"
      },
      "cell_type": "code",
      "source": [
        "# Line magics\n",
        "%timeit [i+1 for i in range(1000)]"
      ],
      "execution_count": 6,
      "outputs": [
        {
          "output_type": "stream",
          "text": [
            "The slowest run took 6.32 times longer than the fastest. This could mean that an intermediate result is being cached.\n",
            "10000 loops, best of 3: 73.4 µs per loop\n"
          ],
          "name": "stdout"
        }
      ]
    },
    {
      "metadata": {
        "id": "Bw-S_25FDyrA",
        "colab_type": "text"
      },
      "cell_type": "markdown",
      "source": [
        "\n",
        "This combination of text and code makes Jupyter Notebook ideal for experimentation and learning: we can see the rationale for each experiment, the code and the results in one comprehensive document."
      ]
    },
    {
      "metadata": {
        "id": "hBf328CeE6lT",
        "colab_type": "text"
      },
      "cell_type": "markdown",
      "source": [
        "last but not least, to include links in your Jupyter notebook, just surround the text you want to link with '[]' and place the link adjacent to the text, sorround with '()'. like [this](https://www.google.com/).\n"
      ]
    },
    {
      "metadata": {
        "id": "A-x-2FFQeHrV",
        "colab_type": "text"
      },
      "cell_type": "markdown",
      "source": [
        "# Introduction to Python and Numpy"
      ]
    },
    {
      "metadata": {
        "id": "qa_ANcdSzu1z",
        "colab_type": "text"
      },
      "cell_type": "markdown",
      "source": [
        "## Python"
      ]
    },
    {
      "metadata": {
        "id": "lN_WQCmahcVz",
        "colab_type": "text"
      },
      "cell_type": "markdown",
      "source": [
        "### Variables\n",
        "\n",
        "\n",
        "Variables can come in lots of different types. Even within numerical variables, you can have integers (int), floats (float), etc. All text based variables are of type string (str). We can see what type a variable is by printing its type."
      ]
    },
    {
      "metadata": {
        "id": "x1hG4l3ZhbLe",
        "colab_type": "code",
        "colab": {
          "base_uri": "https://localhost:8080/",
          "height": 153
        },
        "outputId": "6f46746c-eecc-47f6-b47a-3fc4f96e2ba1"
      },
      "cell_type": "code",
      "source": [
        "# int variable\n",
        "x = 5\n",
        "print (x)\n",
        "print (type(x))\n",
        "\n",
        "# float variable\n",
        "x = 5.0\n",
        "print (x)\n",
        "print (type(x))\n",
        "\n",
        "# text variable\n",
        "x = \"5\" \n",
        "print (x)\n",
        "print (type(x))\n",
        "\n",
        "# boolean variable\n",
        "x = True\n",
        "print (x)\n",
        "print (type(x))"
      ],
      "execution_count": 7,
      "outputs": [
        {
          "output_type": "stream",
          "text": [
            "5\n",
            "<class 'int'>\n",
            "5.0\n",
            "<class 'float'>\n",
            "5\n",
            "<class 'str'>\n",
            "True\n",
            "<class 'bool'>\n"
          ],
          "name": "stdout"
        }
      ]
    },
    {
      "metadata": {
        "id": "6n-blB9yugAd",
        "colab_type": "code",
        "colab": {
          "base_uri": "https://localhost:8080/",
          "height": 51
        },
        "outputId": "f85c4dc0-898f-48f2-cba1-12087982e52e"
      },
      "cell_type": "code",
      "source": [
        "# Let's define a variable\n",
        "a = 250\n",
        "print(a)\n",
        "print(type(a))"
      ],
      "execution_count": 8,
      "outputs": [
        {
          "output_type": "stream",
          "text": [
            "250\n",
            "<class 'int'>\n"
          ],
          "name": "stdout"
        }
      ]
    },
    {
      "metadata": {
        "id": "Fvt-eqQ_h6MC",
        "colab_type": "text"
      },
      "cell_type": "markdown",
      "source": [
        "### Lists:\n",
        "\n",
        "Lists are objects in Python that can hold a ordered sequence of numbers and text."
      ]
    },
    {
      "metadata": {
        "id": "vvzB_0TmbgZj",
        "colab_type": "code",
        "colab": {
          "base_uri": "https://localhost:8080/",
          "height": 238
        },
        "outputId": "69323501-97f7-43a6-8e4c-139a23fa6da5"
      },
      "cell_type": "code",
      "source": [
        "# Creating a list\n",
        "list_x = [35.0, \"hello\", 1]\n",
        "print (list_x)\n",
        "\n",
        "# Adding to a list\n",
        "list_x.append(7)\n",
        "print (list_x)\n",
        "\n",
        "\n",
        "\n",
        "# Accessing items at specific location in a list\n",
        "print (\"list_x[0]: \", list_x[0])\n",
        "print (\"list_x[1]: \", list_x[1])\n",
        "print (\"list_x[2]: \", list_x[2])\n",
        "print (\"list_x[-1]: \", list_x[-1]) # the last item\n",
        "print (\"list_x[-2]: \", list_x[-2]) # the second to last item\n",
        "\n",
        "\n",
        "# Slicing\n",
        "print (\"list_x[:]: \", list_x[:])\n",
        "print (\"list_x[2:]: \", list_x[2:])\n",
        "print (\"list_x[1:3]: \", list_x[1:3])\n",
        "print (\"list_x[:-1]: \", list_x[:-1])\n",
        "\n",
        "\n",
        "# Replacing items in a list\n",
        "list_x[1] = \"hi\"\n",
        "print (list_x)\n",
        "\n",
        "\n",
        "\n",
        "# Combining lists\n",
        "list_y = [2.4, \"world\"]\n",
        "list_z = list_x + list_y\n",
        "print (list_z)"
      ],
      "execution_count": 9,
      "outputs": [
        {
          "output_type": "stream",
          "text": [
            "[35.0, 'hello', 1]\n",
            "[35.0, 'hello', 1, 7]\n",
            "list_x[0]:  35.0\n",
            "list_x[1]:  hello\n",
            "list_x[2]:  1\n",
            "list_x[-1]:  7\n",
            "list_x[-2]:  1\n",
            "list_x[:]:  [35.0, 'hello', 1, 7]\n",
            "list_x[2:]:  [1, 7]\n",
            "list_x[1:3]:  ['hello', 1]\n",
            "list_x[:-1]:  [35.0, 'hello', 1]\n",
            "[35.0, 'hi', 1, 7]\n",
            "[35.0, 'hi', 1, 7, 2.4, 'world']\n"
          ],
          "name": "stdout"
        }
      ]
    },
    {
      "metadata": {
        "id": "XOPr2IHBlteE",
        "colab_type": "text"
      },
      "cell_type": "markdown",
      "source": [
        "### Tuples\n",
        "\n",
        "Tuples are also objects in Python that can hold data but you cannot replace their values (for this reason, tuples are called immutable, whereas lists are known as mutable)."
      ]
    },
    {
      "metadata": {
        "id": "r4F50LVahcyU",
        "colab_type": "code",
        "colab": {
          "base_uri": "https://localhost:8080/",
          "height": 51
        },
        "outputId": "ce6c9421-f9ba-40c6-8ca4-45b9a44bf1f6"
      },
      "cell_type": "code",
      "source": [
        "# Creating a tuple\n",
        "tuple_x = (3.0, \"hello\")\n",
        "print (tuple_x)\n",
        "\n",
        "\n",
        "# Adding values to a tuple\n",
        "tuple_x = tuple_x + (5.6,)\n",
        "print (tuple_x)\n"
      ],
      "execution_count": 10,
      "outputs": [
        {
          "output_type": "stream",
          "text": [
            "(3.0, 'hello')\n",
            "(3.0, 'hello', 5.6)\n"
          ],
          "name": "stdout"
        }
      ]
    },
    {
      "metadata": {
        "id": "YIRSBmznl7aP",
        "colab_type": "code",
        "colab": {}
      },
      "cell_type": "code",
      "source": [
        "# Trying to change a tuples value (you can't)\n",
        "#tuple_x[1] = \"world\""
      ],
      "execution_count": 0,
      "outputs": []
    },
    {
      "metadata": {
        "id": "PaVHoXGVmJts",
        "colab_type": "text"
      },
      "cell_type": "markdown",
      "source": [
        "### Dictionaries\n",
        "\n",
        "\n",
        "Dictionaries are Python objects that hold key-value pairs. In the example dictionary below, the keys are the \"number_of_nodes\" and \"dof\" variables. They each have a value associated with them. A dictionary cannot have two of the same keys."
      ]
    },
    {
      "metadata": {
        "id": "-ahgkE6Hmcsd",
        "colab_type": "code",
        "colab": {
          "base_uri": "https://localhost:8080/",
          "height": 119
        },
        "outputId": "02c75c7b-ed9b-4e8c-e51d-526dfc7c2f46"
      },
      "cell_type": "code",
      "source": [
        "# Creating a dictionary\n",
        "input = {\"number_of_nodes\": 25,\n",
        "        \"dof\": 50}\n",
        "print (input)\n",
        "print (input[\"number_of_nodes\"])\n",
        "print (input[\"dof\"])\n",
        "\n",
        "\n",
        "\n",
        "# Changing the value for a key\n",
        "input[\"number_of_nodes\"] = 60\n",
        "print (input)\n",
        "\n",
        "\n",
        "\n",
        "# Adding new key-value pairs\n",
        "input[\"number_of_elements\"] = 10\n",
        "print (input)\n",
        "\n",
        "\n",
        "# Length of a dictionary\n",
        "print (len(input))"
      ],
      "execution_count": 12,
      "outputs": [
        {
          "output_type": "stream",
          "text": [
            "{'number_of_nodes': 25, 'dof': 50}\n",
            "25\n",
            "50\n",
            "{'number_of_nodes': 60, 'dof': 50}\n",
            "{'number_of_nodes': 60, 'dof': 50, 'number_of_elements': 10}\n",
            "3\n"
          ],
          "name": "stdout"
        }
      ]
    },
    {
      "metadata": {
        "id": "H2ovMai3nM8W",
        "colab_type": "text"
      },
      "cell_type": "markdown",
      "source": [
        "### Python Classes and Objects\n",
        "\n",
        "If you are interested in OOP, learn about classes and objects [here](https://docs.python.org/3/tutorial/classes.html)"
      ]
    },
    {
      "metadata": {
        "id": "JhPToUdGz1Mc",
        "colab_type": "text"
      },
      "cell_type": "markdown",
      "source": [
        "## Numpy"
      ]
    },
    {
      "metadata": {
        "id": "1-edr8Fxz33N",
        "colab_type": "text"
      },
      "cell_type": "markdown",
      "source": [
        "**Numpy is the fundamental package for scientific computing with Python. It provides a high-performance multidimensional array object, and tools for working with these arrays. It also contains useful linear algebra functions, Fourier transform, and random number functions.**\n",
        "\n",
        "If you are already a MATLAB programmer, you might find [this tutorial](https://docs.scipy.org/doc/numpy/user/numpy-for-matlab-users.html) useful. "
      ]
    },
    {
      "metadata": {
        "id": "ZUp0AzoSk5Mn",
        "colab_type": "text"
      },
      "cell_type": "markdown",
      "source": [
        "\n",
        "\n",
        "```\n",
        "To import a library that is not in colaboratory by default, you can use !pip install.\n",
        "```\n",
        "\n"
      ]
    },
    {
      "metadata": {
        "id": "hUy68NRFfXUb",
        "colab_type": "code",
        "colab": {
          "base_uri": "https://localhost:8080/",
          "height": 190
        },
        "outputId": "7da95131-d0e2-46cf-ffda-1c8e8bacdafa"
      },
      "cell_type": "code",
      "source": [
        "!pip install numpy scipy matplotlib\n",
        "!pip install -q matplotlib-venn\n",
        "# !pip install --upgrade numpy"
      ],
      "execution_count": 13,
      "outputs": [
        {
          "output_type": "stream",
          "text": [
            "Requirement already satisfied: numpy in /usr/local/lib/python3.6/dist-packages (1.16.1)\n",
            "Requirement already satisfied: scipy in /usr/local/lib/python3.6/dist-packages (1.1.0)\n",
            "Requirement already satisfied: matplotlib in /usr/local/lib/python3.6/dist-packages (3.0.2)\n",
            "Requirement already satisfied: kiwisolver>=1.0.1 in /usr/local/lib/python3.6/dist-packages (from matplotlib) (1.0.1)\n",
            "Requirement already satisfied: pyparsing!=2.0.4,!=2.1.2,!=2.1.6,>=2.0.1 in /usr/local/lib/python3.6/dist-packages (from matplotlib) (2.3.1)\n",
            "Requirement already satisfied: cycler>=0.10 in /usr/local/lib/python3.6/dist-packages (from matplotlib) (0.10.0)\n",
            "Requirement already satisfied: python-dateutil>=2.1 in /usr/local/lib/python3.6/dist-packages (from matplotlib) (2.5.3)\n",
            "Requirement already satisfied: setuptools in /usr/local/lib/python3.6/dist-packages (from kiwisolver>=1.0.1->matplotlib) (40.8.0)\n",
            "Requirement already satisfied: six in /usr/local/lib/python3.6/dist-packages (from cycler>=0.10->matplotlib) (1.11.0)\n"
          ],
          "name": "stdout"
        }
      ]
    },
    {
      "metadata": {
        "id": "gWfhrWzKhf-c",
        "colab_type": "code",
        "colab": {
          "base_uri": "https://localhost:8080/",
          "height": 34
        },
        "outputId": "ba42f066-b99f-4d41-d34f-2f1cce8a1544"
      },
      "cell_type": "code",
      "source": [
        "import numpy as np\n",
        "import scipy as sp\n",
        "import matplotlib.pyplot as plt\n",
        "print(np.__version__)"
      ],
      "execution_count": 14,
      "outputs": [
        {
          "output_type": "stream",
          "text": [
            "1.16.1\n"
          ],
          "name": "stdout"
        }
      ]
    },
    {
      "metadata": {
        "id": "7cdSxnGCqIUE",
        "colab_type": "code",
        "colab": {}
      },
      "cell_type": "code",
      "source": [
        "# Get inline help\n",
        "np.random?"
      ],
      "execution_count": 0,
      "outputs": []
    },
    {
      "metadata": {
        "id": "3vnqCgAtpm8b",
        "colab_type": "text"
      },
      "cell_type": "markdown",
      "source": [
        "You can also use tab-completion to explore the attributes of python objects and availble methods and functions."
      ]
    },
    {
      "metadata": {
        "id": "4DrmFYQVf2BM",
        "colab_type": "code",
        "colab": {}
      },
      "cell_type": "code",
      "source": [
        "# np.random."
      ],
      "execution_count": 0,
      "outputs": []
    },
    {
      "metadata": {
        "id": "D3iRdgNiqEeR",
        "colab_type": "code",
        "colab": {}
      },
      "cell_type": "code",
      "source": [
        "# np.random.rand("
      ],
      "execution_count": 0,
      "outputs": []
    },
    {
      "metadata": {
        "id": "HUaY7RuIq2il",
        "colab_type": "text"
      },
      "cell_type": "markdown",
      "source": [
        "### Commenting on a cell\n",
        "You can comment on a cell the same way that you would on Google Documents. This is going to be very handy if you want to show the TAs or your collaborators what is going wrong in your code or what they have to look at. For example, look at this peice of code:"
      ]
    },
    {
      "metadata": {
        "id": "40wnrWv8rZTo",
        "colab_type": "code",
        "colab": {}
      },
      "cell_type": "code",
      "source": [
        "x = 1\n",
        "y = 4\n",
        "#z = y/(1-x)"
      ],
      "execution_count": 0,
      "outputs": []
    },
    {
      "metadata": {
        "id": "hFOgmq__33xA",
        "colab_type": "text"
      },
      "cell_type": "markdown",
      "source": [
        "### Arrays\n",
        "\n",
        "A numpy array is a grid of values, all of the same type, and is indexed by a tuple of nonnegative integers. The number of dimensions is the rank of the array; the shape of an array is a tuple of integers giving the size of the array along each dimension.\n",
        "\n",
        "We can initialize numpy arrays from nested Python lists, and access elements using square brackets:"
      ]
    },
    {
      "metadata": {
        "id": "fhBPour2sDDG",
        "colab_type": "code",
        "colab": {
          "base_uri": "https://localhost:8080/",
          "height": 119
        },
        "outputId": "8bff79fd-44e3-42c1-9f08-eb0250616de3"
      },
      "cell_type": "code",
      "source": [
        "a = np.array([1, 2, 3])   # Create a rank 1 array\n",
        "print(type(a))            # Prints \"<class 'numpy.ndarray'>\"\n",
        "print(a.shape)            # Prints \"(3,)\"\n",
        "print(a[0], a[1], a[2])   # Prints \"1 2 3\"\n",
        "a[0] = 5                  # Change an element of the array\n",
        "print(a)                  # Prints \"[5, 2, 3]\"\n",
        "\n",
        "b = np.array([[1,2,3],[4,5,6]])    # Create a rank 2 array\n",
        "print(b.shape)                     # Prints \"(2, 3)\"\n",
        "print(b[0, 0], b[0, 1], b[1, 0])   # Prints \"1 2 4\""
      ],
      "execution_count": 20,
      "outputs": [
        {
          "output_type": "stream",
          "text": [
            "<class 'numpy.ndarray'>\n",
            "(3,)\n",
            "1 2 3\n",
            "[5 2 3]\n",
            "(2, 3)\n",
            "1 2 4\n"
          ],
          "name": "stdout"
        }
      ]
    },
    {
      "metadata": {
        "id": "aByLPkC9ciOK",
        "colab_type": "text"
      },
      "cell_type": "markdown",
      "source": [
        "**Some vocabulary**\n",
        "- In NumPy, each dimension is called an axis.\n",
        "- The number of axes is called the rank.\n",
        "- For example, the above 2x3 matrix is an array of rank 2 (it is 2-dimensional).\n",
        "- The first axis has length 2, the second has length 3.\n",
        "- An array's list of axis lengths is called the shape of the array.\n",
        "- For example, the above matrix's shape is (2,34).\n",
        "- The rank is equal to the shape's length.\n",
        "- The size of an array is the total number of elements, which is the product of all axis lengths (eg. 2*3=6)"
      ]
    },
    {
      "metadata": {
        "id": "rMGDpwdA4YQy",
        "colab_type": "text"
      },
      "cell_type": "markdown",
      "source": [
        "**You can create arrays in [many different ways](https://docs.scipy.org/doc/numpy/user/basics.creation.html#arrays-creation)**:"
      ]
    },
    {
      "metadata": {
        "id": "BJnee7bl1Zkg",
        "colab_type": "code",
        "colab": {
          "base_uri": "https://localhost:8080/",
          "height": 204
        },
        "outputId": "5786b926-cb78-43e3-9ada-89e42d09e91e"
      },
      "cell_type": "code",
      "source": [
        "a = np.zeros((2,2))   # Create an array of all zeros\n",
        "print(a)              # Prints \"[[ 0.  0.]\n",
        "                      #          [ 0.  0.]]\"\n",
        "\n",
        "b = np.ones((1,2))    # Create an array of all ones\n",
        "print(b)              # Prints \"[[ 1.  1.]]\"\n",
        "\n",
        "c = np.full((2,2), 7)  # Create a constant array\n",
        "print(c)               # Prints \"[[ 7.  7.]\n",
        "                       #          [ 7.  7.]]\"\n",
        "\n",
        "d = np.eye(2)         # Create a 2x2 identity matrix\n",
        "print(d)              # Prints \"[[ 1.  0.]\n",
        "                      #          [ 0.  1.]]\"\n",
        "\n",
        "e = np.random.random((2,2))  # Create an array filled with random values\n",
        "print(e)                     # Might print \"[[ 0.91940167  0.08143941]\n",
        "                             #               [ 0.68744134  0.87236687]]\"\n",
        "  \n",
        "  \n",
        "# arange vs linspace\n",
        "print(np.arange( 0, 2, 0.3 ))\n",
        "print(np.linspace( 0, 2, 9 ))"
      ],
      "execution_count": 21,
      "outputs": [
        {
          "output_type": "stream",
          "text": [
            "[[0. 0.]\n",
            " [0. 0.]]\n",
            "[[1. 1.]]\n",
            "[[7 7]\n",
            " [7 7]]\n",
            "[[1. 0.]\n",
            " [0. 1.]]\n",
            "[[0.75630372 0.89585368]\n",
            " [0.88989774 0.68352588]]\n",
            "[0.  0.3 0.6 0.9 1.2 1.5 1.8]\n",
            "[0.   0.25 0.5  0.75 1.   1.25 1.5  1.75 2.  ]\n"
          ],
          "name": "stdout"
        }
      ]
    },
    {
      "metadata": {
        "id": "MVW_mc8y411G",
        "colab_type": "text"
      },
      "cell_type": "markdown",
      "source": [
        "### Array indexing"
      ]
    },
    {
      "metadata": {
        "id": "9N4gNnIc6mRP",
        "colab_type": "text"
      },
      "cell_type": "markdown",
      "source": [
        "Take a look at [this](https://docs.scipy.org/doc/numpy/reference/arrays.indexing.html)."
      ]
    },
    {
      "metadata": {
        "id": "-RRavjEU5IHI",
        "colab_type": "text"
      },
      "cell_type": "markdown",
      "source": [
        "#### Slicing"
      ]
    },
    {
      "metadata": {
        "id": "Db78dboO4kw-",
        "colab_type": "code",
        "colab": {
          "base_uri": "https://localhost:8080/",
          "height": 51
        },
        "outputId": "ac62d557-f264-4cd2-a0a7-a40acbb4c677"
      },
      "cell_type": "code",
      "source": [
        "# Create the following rank 2 array with shape (3, 4)\n",
        "# [[ 1  2  3  4]\n",
        "#  [ 5  6  7  8]\n",
        "#  [ 9 10 11 12]]\n",
        "a = np.array([[1,2,3,4], [5,6,7,8], [9,10,11,12]])\n",
        "\n",
        "# Use slicing to pull out the subarray consisting of the first 2 rows\n",
        "# and columns 1 and 2; b is the following array of shape (2, 2):\n",
        "# [[2 3]\n",
        "#  [6 7]]\n",
        "b = a[:2, 1:3]\n",
        "\n",
        "# A slice of an array is a view into the same data, so modifying it\n",
        "# will modify the original array.\n",
        "print(a[0, 1])   # Prints \"2\"\n",
        "b[0, 0] = 77     # b[0, 0] is the same piece of data as a[0, 1]\n",
        "print(a[0, 1])   # Prints \"77\""
      ],
      "execution_count": 22,
      "outputs": [
        {
          "output_type": "stream",
          "text": [
            "2\n",
            "77\n"
          ],
          "name": "stdout"
        }
      ]
    },
    {
      "metadata": {
        "id": "igOsGlCj5p--",
        "colab_type": "text"
      },
      "cell_type": "markdown",
      "source": [
        "**You can also mix integer indexing with slice indexing. However, doing so will yield an array of lower rank than the original array. Note that this is quite different from the way that MATLAB handles array slicing:**"
      ]
    },
    {
      "metadata": {
        "id": "vhOqnarh5KDk",
        "colab_type": "code",
        "colab": {
          "base_uri": "https://localhost:8080/",
          "height": 119
        },
        "outputId": "b76f7ad1-fb52-4109-b49d-d3681c102d8d"
      },
      "cell_type": "code",
      "source": [
        "# Create the following rank 2 array with shape (3, 4)\n",
        "# [[ 1  2  3  4]\n",
        "#  [ 5  6  7  8]\n",
        "#  [ 9 10 11 12]]\n",
        "a = np.array([[1,2,3,4], [5,6,7,8], [9,10,11,12]])\n",
        "\n",
        "# Two ways of accessing the data in the middle row of the array.\n",
        "# Mixing integer indexing with slices yields an array of lower rank,\n",
        "# while using only slices yields an array of the same rank as the\n",
        "# original array:\n",
        "row_r1 = a[1, :]    # Rank 1 view of the second row of a\n",
        "row_r2 = a[1:2, :]  # Rank 2 view of the second row of a\n",
        "print(row_r1, row_r1.shape)  # Prints \"[5 6 7 8] (4,)\"\n",
        "print(row_r2, row_r2.shape)  # Prints \"[[5 6 7 8]] (1, 4)\"\n",
        "\n",
        "# We can make the same distinction when accessing columns of an array:\n",
        "col_r1 = a[:, 1]\n",
        "col_r2 = a[:, 1:2]\n",
        "print(col_r1, col_r1.shape)  # Prints \"[ 2  6 10] (3,)\"\n",
        "print(col_r2, col_r2.shape)  # Prints \"[[ 2]\n",
        "                             #          [ 6]\n",
        "                             #          [10]] (3, 1)\""
      ],
      "execution_count": 23,
      "outputs": [
        {
          "output_type": "stream",
          "text": [
            "[5 6 7 8] (4,)\n",
            "[[5 6 7 8]] (1, 4)\n",
            "[ 2  6 10] (3,)\n",
            "[[ 2]\n",
            " [ 6]\n",
            " [10]] (3, 1)\n"
          ],
          "name": "stdout"
        }
      ]
    },
    {
      "metadata": {
        "id": "RhZUALKk6Fle",
        "colab_type": "text"
      },
      "cell_type": "markdown",
      "source": [
        "#### Integer array indexing: \n",
        "\n",
        "When you index into numpy arrays using slicing, the resulting array view will always be a subarray of the original array. In contrast, integer array indexing allows you to construct arbitrary arrays using the data from another array. Here is an example:"
      ]
    },
    {
      "metadata": {
        "id": "7mQigmmn5hFw",
        "colab_type": "code",
        "colab": {
          "base_uri": "https://localhost:8080/",
          "height": 85
        },
        "outputId": "e9554975-918f-45a4-9b24-94458c79ae11"
      },
      "cell_type": "code",
      "source": [
        "a = np.array([[1,2], [3, 4], [5, 6]])\n",
        "\n",
        "# An example of integer array indexing.\n",
        "# The returned array will have shape (3,) and\n",
        "print(a[[0, 1, 2], [0, 1, 0]])  # Prints \"[1 4 5]\"\n",
        "\n",
        "# The above example of integer array indexing is equivalent to this:\n",
        "print(np.array([a[0, 0], a[1, 1], a[2, 0]]))  # Prints \"[1 4 5]\"\n",
        "\n",
        "# When using integer array indexing, you can reuse the same\n",
        "# element from the source array:\n",
        "print(a[[0, 0], [1, 1]])  # Prints \"[2 2]\"\n",
        "\n",
        "# Equivalent to the previous integer array indexing example\n",
        "print(np.array([a[0, 1], a[0, 1]]))  # Prints \"[2 2]\""
      ],
      "execution_count": 24,
      "outputs": [
        {
          "output_type": "stream",
          "text": [
            "[1 4 5]\n",
            "[1 4 5]\n",
            "[2 2]\n",
            "[2 2]\n"
          ],
          "name": "stdout"
        }
      ]
    },
    {
      "metadata": {
        "id": "NgSAkEvH6Waa",
        "colab_type": "text"
      },
      "cell_type": "markdown",
      "source": [
        "#### Boolean array indexing: \n",
        "Boolean array indexing lets you pick out arbitrary elements of an array. Frequently this type of indexing is used to select the elements of an array that satisfy some condition. Here is an example:"
      ]
    },
    {
      "metadata": {
        "id": "feuOWO5r6LTs",
        "colab_type": "code",
        "colab": {
          "base_uri": "https://localhost:8080/",
          "height": 102
        },
        "outputId": "733ac966-0270-4a32-bff9-6557d7b4d956"
      },
      "cell_type": "code",
      "source": [
        "import numpy as np\n",
        "\n",
        "a = np.array([[1,2], [3, 4], [5, 6]])\n",
        "\n",
        "bool_idx = (a > 2)   # Find the elements of a that are bigger than 2;\n",
        "                     # this returns a numpy array of Booleans of the same\n",
        "                     # shape as a, where each slot of bool_idx tells\n",
        "                     # whether that element of a is > 2.\n",
        "\n",
        "print(bool_idx)      # Prints \"[[False False]\n",
        "                     #          [ True  True]\n",
        "                     #          [ True  True]]\"\n",
        "\n",
        "# We use boolean array indexing to construct a rank 1 array\n",
        "# consisting of the elements of a corresponding to the True values\n",
        "# of bool_idx\n",
        "print(a[bool_idx])  # Prints \"[3 4 5 6]\"\n",
        "\n",
        "# We can do all of the above in a single concise statement:\n",
        "print(a[a > 2])     # Prints \"[3 4 5 6]\""
      ],
      "execution_count": 25,
      "outputs": [
        {
          "output_type": "stream",
          "text": [
            "[[False False]\n",
            " [ True  True]\n",
            " [ True  True]]\n",
            "[3 4 5 6]\n",
            "[3 4 5 6]\n"
          ],
          "name": "stdout"
        }
      ]
    },
    {
      "metadata": {
        "id": "_66uS4AVGrLU",
        "colab_type": "text"
      },
      "cell_type": "markdown",
      "source": [
        "### Datatypes\n",
        "Every numpy array is a grid of elements of the same type. Numpy provides a large set of numeric [datatypes](https://docs.scipy.org/doc/numpy/reference/arrays.dtypes.html) that you can use to construct arrays. Numpy tries to guess a datatype when you create an array, but functions that construct arrays usually also include an optional argument to explicitly specify the datatype. Here is an example:"
      ]
    },
    {
      "metadata": {
        "id": "6yfeyNya6ape",
        "colab_type": "code",
        "colab": {
          "base_uri": "https://localhost:8080/",
          "height": 85
        },
        "outputId": "8806d150-086e-4cda-80f4-c7792a83c6a3"
      },
      "cell_type": "code",
      "source": [
        "x = np.array([1, 2])   # Let numpy choose the datatype\n",
        "print(x.dtype)         # Prints \"int64\"\n",
        "\n",
        "x = np.array([1.0, 2.0])   # Let numpy choose the datatype\n",
        "print(x.dtype)             # Prints \"float64\"\n",
        "\n",
        "x = np.array([1, 2], dtype=np.float)   # Force a particular datatype\n",
        "print(x)\n",
        "print(x.dtype)                         # Prints \"int64\""
      ],
      "execution_count": 26,
      "outputs": [
        {
          "output_type": "stream",
          "text": [
            "int64\n",
            "float64\n",
            "[1. 2.]\n",
            "float64\n"
          ],
          "name": "stdout"
        }
      ]
    },
    {
      "metadata": {
        "id": "N9lnEUc0HQ2w",
        "colab_type": "text"
      },
      "cell_type": "markdown",
      "source": [
        "### Array math\n",
        "Basic mathematical functions operate elementwise on arrays, and are available both as operator overloads and as functions in the numpy module:"
      ]
    },
    {
      "metadata": {
        "id": "fWsd_UVSG94T",
        "colab_type": "code",
        "colab": {
          "base_uri": "https://localhost:8080/",
          "height": 323
        },
        "outputId": "69dc01e3-516d-499c-8224-4d95221eef65"
      },
      "cell_type": "code",
      "source": [
        "x = np.array([[1,2],[3,4]], dtype=np.float64)\n",
        "y = np.array([[5,6],[7,8]], dtype=np.float64)\n",
        "\n",
        "# Elementwise sum; both produce the array\n",
        "# [[ 6.0  8.0]\n",
        "#  [10.0 12.0]]\n",
        "print(x + y)\n",
        "print(np.add(x, y))\n",
        "\n",
        "# Elementwise difference; both produce the array\n",
        "# [[-4.0 -4.0]\n",
        "#  [-4.0 -4.0]]\n",
        "print(x - y)\n",
        "print(np.subtract(x, y))\n",
        "\n",
        "# Elementwise product; both produce the array\n",
        "# [[ 5.0 12.0]\n",
        "#  [21.0 32.0]]\n",
        "print(x * y)\n",
        "print(np.multiply(x, y))\n",
        "\n",
        "# Elementwise division; both produce the array\n",
        "# [[ 0.2         0.33333333]\n",
        "#  [ 0.42857143  0.5       ]]\n",
        "print(x / y)\n",
        "print(np.divide(x, y))\n",
        "\n",
        "# Elementwise square root; produces the array\n",
        "# [[ 1.          1.41421356]\n",
        "#  [ 1.73205081  2.        ]]\n",
        "print(np.sqrt(x))"
      ],
      "execution_count": 27,
      "outputs": [
        {
          "output_type": "stream",
          "text": [
            "[[ 6.  8.]\n",
            " [10. 12.]]\n",
            "[[ 6.  8.]\n",
            " [10. 12.]]\n",
            "[[-4. -4.]\n",
            " [-4. -4.]]\n",
            "[[-4. -4.]\n",
            " [-4. -4.]]\n",
            "[[ 5. 12.]\n",
            " [21. 32.]]\n",
            "[[ 5. 12.]\n",
            " [21. 32.]]\n",
            "[[0.2        0.33333333]\n",
            " [0.42857143 0.5       ]]\n",
            "[[0.2        0.33333333]\n",
            " [0.42857143 0.5       ]]\n",
            "[[1.         1.41421356]\n",
            " [1.73205081 2.        ]]\n"
          ],
          "name": "stdout"
        }
      ]
    },
    {
      "metadata": {
        "id": "qEx8J31aHmLS",
        "colab_type": "text"
      },
      "cell_type": "markdown",
      "source": [
        "Note that unlike MATLAB, **\\*** is elementwise multiplication, not matrix multiplication. We instead use the **dot** function to compute inner products of vectors, to multiply a vector by a matrix, and to multiply matrices. **dot** is available both as a function in the numpy module and as an instance method of array objects."
      ]
    },
    {
      "metadata": {
        "id": "fQ1lzsllHVje",
        "colab_type": "code",
        "colab": {
          "base_uri": "https://localhost:8080/",
          "height": 153
        },
        "outputId": "1994f63f-8427-4655-ce0b-e7458cc9121c"
      },
      "cell_type": "code",
      "source": [
        "x = np.array([[1,2],[3,4]])\n",
        "y = np.array([[5,6],[7,8]])\n",
        "\n",
        "v = np.array([9,10])\n",
        "w = np.array([11, 12])\n",
        "\n",
        "# Inner product of vectors; both produce 219\n",
        "print(v.dot(w))\n",
        "print(np.dot(v, w))\n",
        "\n",
        "# Matrix / vector product; both produce the rank 1 array [29 67]\n",
        "print(x.dot(v))\n",
        "print(np.dot(x, v))\n",
        "\n",
        "# Matrix / matrix product; both produce the rank 2 array\n",
        "# [[19 22]\n",
        "#  [43 50]]\n",
        "print(x.dot(y))\n",
        "print(np.dot(x, y))"
      ],
      "execution_count": 28,
      "outputs": [
        {
          "output_type": "stream",
          "text": [
            "219\n",
            "219\n",
            "[29 67]\n",
            "[29 67]\n",
            "[[19 22]\n",
            " [43 50]]\n",
            "[[19 22]\n",
            " [43 50]]\n"
          ],
          "name": "stdout"
        }
      ]
    },
    {
      "metadata": {
        "id": "_84zZCm6I9C8",
        "colab_type": "text"
      },
      "cell_type": "markdown",
      "source": [
        "Numpy provides [many](https://docs.scipy.org/doc/numpy/reference/routines.math.html) useful functions for performing computations on arrays; such as **sum, sin, cos, exp, log,  **"
      ]
    },
    {
      "metadata": {
        "id": "rChkm8NyIZ1b",
        "colab_type": "code",
        "colab": {
          "base_uri": "https://localhost:8080/",
          "height": 68
        },
        "outputId": "7fda73a9-5460-4cb8-af01-eff48d38380b"
      },
      "cell_type": "code",
      "source": [
        "x = np.array([[1,2],[3,4]])\n",
        "\n",
        "print(np.sum(x))  # Compute sum of all elements; prints \"10\"\n",
        "print(np.sum(x, axis=0))  # Compute sum of each column; prints \"[4 6]\"\n",
        "print(np.sum(x, axis=1))  # Compute sum of each row; prints \"[3 7]\""
      ],
      "execution_count": 29,
      "outputs": [
        {
          "output_type": "stream",
          "text": [
            "10\n",
            "[4 6]\n",
            "[3 7]\n"
          ],
          "name": "stdout"
        }
      ]
    },
    {
      "metadata": {
        "id": "ZEmOMU57UjTm",
        "colab_type": "text"
      },
      "cell_type": "markdown",
      "source": [
        "### No Copy at all"
      ]
    },
    {
      "metadata": {
        "id": "5TLZYkQLUyXm",
        "colab_type": "text"
      },
      "cell_type": "markdown",
      "source": [
        "Simple assignments make no copy of array objects or of their data.\n",
        "\n"
      ]
    },
    {
      "metadata": {
        "id": "5138DdoTUoN7",
        "colab_type": "code",
        "colab": {
          "base_uri": "https://localhost:8080/",
          "height": 51
        },
        "outputId": "4fe62f39-5bb5-40e8-8a06-e6d3a21417b8"
      },
      "cell_type": "code",
      "source": [
        "a = np.arange(12)\n",
        "b = a            # no new object is created\n",
        "print(b is a)           # a and b are two names for the same ndarray object\n",
        "\n",
        "b.shape = 3,4    # changes the shape of a\n",
        "a.shape\n"
      ],
      "execution_count": 30,
      "outputs": [
        {
          "output_type": "stream",
          "text": [
            "True\n"
          ],
          "name": "stdout"
        },
        {
          "output_type": "execute_result",
          "data": {
            "text/plain": [
              "(3, 4)"
            ]
          },
          "metadata": {
            "tags": []
          },
          "execution_count": 30
        }
      ]
    },
    {
      "metadata": {
        "id": "tBIKQv2HU_RN",
        "colab_type": "text"
      },
      "cell_type": "markdown",
      "source": [
        "Also, python passes mutable objects as references, so function calls make no copy."
      ]
    },
    {
      "metadata": {
        "id": "zobOLJrYVEkm",
        "colab_type": "code",
        "colab": {
          "base_uri": "https://localhost:8080/",
          "height": 68
        },
        "outputId": "b3f6f126-377d-4796-8b0e-e23474d543f5"
      },
      "cell_type": "code",
      "source": [
        "d = a.copy()                          # a new array object with new data is created\n",
        "d is a\n",
        "\n",
        "d.base is a                           # d doesn't share anything with a\n",
        "\n",
        "d[0,0] = 9999\n",
        "a"
      ],
      "execution_count": 31,
      "outputs": [
        {
          "output_type": "execute_result",
          "data": {
            "text/plain": [
              "array([[ 0,  1,  2,  3],\n",
              "       [ 4,  5,  6,  7],\n",
              "       [ 8,  9, 10, 11]])"
            ]
          },
          "metadata": {
            "tags": []
          },
          "execution_count": 31
        }
      ]
    },
    {
      "metadata": {
        "id": "REVFfMf4JWj7",
        "colab_type": "text"
      },
      "cell_type": "markdown",
      "source": [
        "### Broadcasting\n",
        "\n",
        "Broadcasting is a powerful mechanism that allows numpy to work with arrays of different shapes when performing arithmetic operations. Frequently we have a smaller array and a larger array, and we want to use the smaller array multiple times to perform some operation on the larger array.\n",
        "\n",
        "For example, suppose that we want to add a constant vector to each row of a matrix. We could do it like this:"
      ]
    },
    {
      "metadata": {
        "id": "ml_2cJtZJogJ",
        "colab_type": "code",
        "colab": {
          "base_uri": "https://localhost:8080/",
          "height": 85
        },
        "outputId": "f6fe38c5-087c-4d78-8644-c9720286ff04"
      },
      "cell_type": "code",
      "source": [
        "import numpy as np\n",
        "\n",
        "# We will add the vector v to each row of the matrix x,\n",
        "# storing the result in the matrix y\n",
        "x = np.array([[1,2,3], [4,5,6], [7,8,9], [10, 11, 12]])\n",
        "v = np.array([1, 0, 1])\n",
        "y = np.empty_like(x)   # Create an empty matrix with the same shape as x\n",
        "\n",
        "# Add the vector v to each row of the matrix x with an explicit loop\n",
        "for i in range(4):\n",
        "    y[i, :] = x[i, :] + v\n",
        "\n",
        "# Now y is the following\n",
        "# [[ 2  2  4]\n",
        "#  [ 5  5  7]\n",
        "#  [ 8  8 10]\n",
        "#  [11 11 13]]\n",
        "print(y)"
      ],
      "execution_count": 32,
      "outputs": [
        {
          "output_type": "stream",
          "text": [
            "[[ 2  2  4]\n",
            " [ 5  5  7]\n",
            " [ 8  8 10]\n",
            " [11 11 13]]\n"
          ],
          "name": "stdout"
        }
      ]
    },
    {
      "metadata": {
        "id": "sezNY6MhJ5B6",
        "colab_type": "text"
      },
      "cell_type": "markdown",
      "source": [
        "This works; however when the matrix x is very large, computing an explicit loop in Python could be slow.\n",
        "\n",
        "Numpy broadcasting allows us to perform this computation without having a loop or actually creating multiple copies of v. Consider this version, using broadcasting:\n",
        "\n"
      ]
    },
    {
      "metadata": {
        "id": "Dsgr78FPJoxV",
        "colab_type": "code",
        "colab": {
          "base_uri": "https://localhost:8080/",
          "height": 85
        },
        "outputId": "26db895e-61c0-4783-a3ec-f4d48eaac78b"
      },
      "cell_type": "code",
      "source": [
        "import numpy as np\n",
        "\n",
        "# We will add the vector v to each row of the matrix x,\n",
        "# storing the result in the matrix y\n",
        "x = np.array([[1,2,3], [4,5,6], [7,8,9], [10, 11, 12]])\n",
        "v = np.array([1, 0, 1])\n",
        "y = x + v  # Add v to each row of x using broadcasting\n",
        "print(y)  # Prints \"[[ 2  2  4]\n",
        "          #          [ 5  5  7]\n",
        "          #          [ 8  8 10]\n",
        "          #          [11 11 13]]\""
      ],
      "execution_count": 33,
      "outputs": [
        {
          "output_type": "stream",
          "text": [
            "[[ 2  2  4]\n",
            " [ 5  5  7]\n",
            " [ 8  8 10]\n",
            " [11 11 13]]\n"
          ],
          "name": "stdout"
        }
      ]
    },
    {
      "metadata": {
        "id": "RFssI50lKxtk",
        "colab_type": "text"
      },
      "cell_type": "markdown",
      "source": [
        "It is very important that you understand how broadcasting works. So, I would suggest that you read [this](https://docs.scipy.org/doc/numpy/user/basics.broadcasting.html) from the documentation."
      ]
    },
    {
      "metadata": {
        "id": "YTvRuzTFWQq4",
        "colab_type": "text"
      },
      "cell_type": "markdown",
      "source": [
        "## Linear Algebra"
      ]
    },
    {
      "metadata": {
        "id": "SvifYANIKZIV",
        "colab_type": "code",
        "colab": {
          "base_uri": "https://localhost:8080/",
          "height": 323
        },
        "outputId": "b1361220-2a97-4e44-daba-19b8d025467a"
      },
      "cell_type": "code",
      "source": [
        "import numpy as np\n",
        "a = np.array([[1.0, 2.0], [3.0, 4.0]])\n",
        "print(a)\n",
        "\n",
        "\n",
        "# transpose\n",
        "print('transpose: \\n', a.transpose())\n",
        "\n",
        "\n",
        "# inv\n",
        "print('inverse: \\n',np.linalg.inv(a))\n",
        "\n",
        "\n",
        "# determinant\n",
        "print('determinant', np.linalg.det(a))\n",
        "\n",
        "u = np.eye(2) # unit 2x2 matrix; \"eye\" represents \"I\"\n",
        "print('identity matrix: \\n', u)\n",
        "\n",
        "\n",
        "j = np.array([[0.0, -1.0], [1.0, 0.0]])\n",
        "\n",
        "print('matrix product: \\n', j @ j )       # matrix product\n",
        "\n",
        "\n",
        "\n",
        "print('trace:', np.trace(u))  # trace\n",
        "\n",
        "\n",
        "y = np.array([[5.], [7.]])\n",
        "print('solution: ', np.linalg.solve(a, y))\n"
      ],
      "execution_count": 34,
      "outputs": [
        {
          "output_type": "stream",
          "text": [
            "[[1. 2.]\n",
            " [3. 4.]]\n",
            "transpose: \n",
            " [[1. 3.]\n",
            " [2. 4.]]\n",
            "inverse: \n",
            " [[-2.   1. ]\n",
            " [ 1.5 -0.5]]\n",
            "determinant -2.0000000000000004\n",
            "identity matrix: \n",
            " [[1. 0.]\n",
            " [0. 1.]]\n",
            "matrix product: \n",
            " [[-1.  0.]\n",
            " [ 0. -1.]]\n",
            "trace: 2.0\n",
            "solution:  [[-3.]\n",
            " [ 4.]]\n"
          ],
          "name": "stdout"
        }
      ]
    },
    {
      "metadata": {
        "id": "RLDNUGYZfqzi",
        "colab_type": "code",
        "colab": {
          "base_uri": "https://localhost:8080/",
          "height": 170
        },
        "outputId": "02f73b65-32f8-46ed-f71e-581e2c2fe3e5"
      },
      "cell_type": "code",
      "source": [
        "mat = np.array([[1,2,3],[5,7,11],[21,29,31]])\n",
        "\n",
        "eigenvalues, eigenvectors  = np.linalg.eig(mat)\n",
        "print('eigenvalues: \\n', eigenvalues)\n",
        "print('eigenvectors: \\n', eigenvectors)\n",
        "\n",
        "mat.dot(eigenvectors) - eigenvalues * eigenvectors  # m3.v - λ*v = 0"
      ],
      "execution_count": 35,
      "outputs": [
        {
          "output_type": "stream",
          "text": [
            "eigenvalues: \n",
            " [42.26600592 -0.35798416 -2.90802176]\n",
            "eigenvectors: \n",
            " [[-0.08381182 -0.76283526 -0.18913107]\n",
            " [-0.3075286   0.64133975 -0.6853186 ]\n",
            " [-0.94784057 -0.08225377  0.70325518]]\n"
          ],
          "name": "stdout"
        },
        {
          "output_type": "execute_result",
          "data": {
            "text/plain": [
              "array([[ 6.66133815e-15,  1.66533454e-15, -3.10862447e-15],\n",
              "       [ 7.10542736e-15,  5.16253706e-15, -5.32907052e-15],\n",
              "       [ 3.55271368e-14,  4.94743135e-15, -9.76996262e-15]])"
            ]
          },
          "metadata": {
            "tags": []
          },
          "execution_count": 35
        }
      ]
    },
    {
      "metadata": {
        "id": "upVkKIXoX9We",
        "colab_type": "text"
      },
      "cell_type": "markdown",
      "source": [
        "### Calculating the norm of a vector or Matrix\n"
      ]
    },
    {
      "metadata": {
        "id": "Hg8tJshfWg57",
        "colab_type": "code",
        "colab": {
          "base_uri": "https://localhost:8080/",
          "height": 68
        },
        "outputId": "6d70c18f-c97d-4057-9fd7-b23ed10d0a12"
      },
      "cell_type": "code",
      "source": [
        "def vector_norm(vector):\n",
        "    squares = [element**2 for element in vector]\n",
        "    return np.sum(squares)**0.5\n",
        "\n",
        "u = np.array([[2,5], [4,3]])\n",
        "print(\"||\", u, \"|| =\")\n",
        "vector_norm(u)"
      ],
      "execution_count": 36,
      "outputs": [
        {
          "output_type": "stream",
          "text": [
            "|| [[2 5]\n",
            " [4 3]] || =\n"
          ],
          "name": "stdout"
        },
        {
          "output_type": "execute_result",
          "data": {
            "text/plain": [
              "7.3484692283495345"
            ]
          },
          "metadata": {
            "tags": []
          },
          "execution_count": 36
        }
      ]
    },
    {
      "metadata": {
        "id": "2UXRKceXYGZ4",
        "colab_type": "code",
        "colab": {
          "base_uri": "https://localhost:8080/",
          "height": 34
        },
        "outputId": "80350db5-6bd0-4f7b-a326-31b9fb01ed3c"
      },
      "cell_type": "code",
      "source": [
        "np.linalg.norm(u)"
      ],
      "execution_count": 37,
      "outputs": [
        {
          "output_type": "execute_result",
          "data": {
            "text/plain": [
              "7.3484692283495345"
            ]
          },
          "metadata": {
            "tags": []
          },
          "execution_count": 37
        }
      ]
    }
  ]
}