{
  "nbformat": 4,
  "nbformat_minor": 0,
  "metadata": {
    "colab": {
      "name": "COE 321K-basics.ipynb",
      "version": "0.3.2",
      "provenance": [],
      "collapsed_sections": [],
      "toc_visible": true,
      "include_colab_link": true
    },
    "kernelspec": {
      "name": "python3",
      "display_name": "Python 3"
    }
  },
  "cells": [
    {
      "cell_type": "markdown",
      "metadata": {
        "id": "view-in-github",
        "colab_type": "text"
      },
      "source": [
        "<a href=\"https://colab.research.google.com/github/anvaribs/UT-COE-321K/blob/master/COE_321K_basics.ipynb\" target=\"_parent\"><img src=\"https://colab.research.google.com/assets/colab-badge.svg\" alt=\"Open In Colab\"/></a>"
      ]
    },
    {
      "metadata": {
        "id": "o8v51IzCcJdU",
        "colab_type": "text"
      },
      "cell_type": "markdown",
      "source": [
        "# Announcements:\n",
        "\n",
        "---\n",
        "\n",
        "\n",
        "\n",
        "### 1. HW#3 is due on **March 4, 2019**. \n",
        "### 2. Please follow all the guidelines for submitting your assignment. \n",
        "### 3. You should submit your assignment through **Canvas**. \n",
        "### 4. you must submit a PDF (hwX_yourEID.pdf) of your write-up and a zip file including all your source codes through Canvas. Name this zip file **hwX_yourEID.zip**.\n",
        "### 5. You can resubmit your assignment before the deadline.\n",
        "### 6. Only the most recent submission would be graded."
      ]
    },
    {
      "metadata": {
        "id": "MMjhMTg_gWMZ",
        "colab_type": "text"
      },
      "cell_type": "markdown",
      "source": [
        "# Agenda:\n",
        "\n",
        "\n",
        "\n",
        " - What is google Colab? Why do we use it?\n",
        " - Intro to Python and Numpy library for numerical computation.\n",
        " - Intro to [Fenics](https://fenicsproject.org/)  using high-level Python API.\n",
        " - Example programs to solve Solid Mechanics problems.\n",
        "\n",
        "\n",
        "\n",
        " "
      ]
    },
    {
      "metadata": {
        "id": "SqDP78Lzb6_m",
        "colab_type": "text"
      },
      "cell_type": "markdown",
      "source": [
        "# Google Colab\n",
        "\n",
        "**You can think of Google Colab as Jupyter Notebook stored in google cloud! **\n",
        "\n",
        "1. Everything runs on cloud. You do not have to install or build anything on your local machine. You do not have to be worried about dependencies locally. \n",
        "2. It allows you to share your work with me and other TAs, see [this](https://support.google.com/drive/answer/2494822?co=GENIE.Platform%3DDesktop&hl=en). We can run your code in a completely consistent enviroment and figure out what is going wrong.\n",
        "* For interaction between colab and github see, [Using Colab with GitHub](https://colab.research.google.com/github/googlecolab/colabtools/blob/master/notebooks/colab-github-demo.ipynb)\n",
        "3. You can also use a GPU to run your code.\n",
        "4. You can extend the power of the notebook by installing new libraries using pip install.\n",
        "5. Google colab integrates nicely with Github, so that you can load notebooks from Github and also save notebooks to Github.\n",
        "\n",
        "\n",
        "\n",
        "\n",
        "**Note**: Environmental variables and libraries that you build does not persist accross multiple sessions."
      ]
    },
    {
      "metadata": {
        "id": "N3NikCfUfK62",
        "colab_type": "code",
        "colab": {
          "base_uri": "https://localhost:8080/",
          "height": 51
        },
        "outputId": "69cb6ab6-1cb7-47de-8de8-6024b0df422c"
      },
      "cell_type": "code",
      "source": [
        "print(\"Show available RAM memory:\")\n",
        "!cat /proc/meminfo | grep MemTotal"
      ],
      "execution_count": 5,
      "outputs": [
        {
          "output_type": "stream",
          "text": [
            "Show available RAM memory:\n",
            "MemTotal:       13335276 kB\n"
          ],
          "name": "stdout"
        }
      ]
    },
    {
      "metadata": {
        "id": "ULdNMNuwfmWH",
        "colab_type": "code",
        "colab": {}
      },
      "cell_type": "code",
      "source": [
        "# print(\"Check CPUs info:\")\n",
        "# !cat /proc/cpuinfo"
      ],
      "execution_count": 0,
      "outputs": []
    },
    {
      "metadata": {
        "id": "T6E63Ijxsj0f",
        "colab_type": "code",
        "colab": {}
      },
      "cell_type": "code",
      "source": [
        "!pip install -q matplotlib-venn\n",
        "\n",
        "import matplotlib_venn as venn"
      ],
      "execution_count": 0,
      "outputs": []
    },
    {
      "metadata": {
        "id": "v6hfR_9mh3W2",
        "colab_type": "text"
      },
      "cell_type": "markdown",
      "source": [
        "# A quick intro to Jupyter notebook"
      ]
    },
    {
      "metadata": {
        "id": "Ghea_kxeu-f0",
        "colab_type": "text"
      },
      "cell_type": "markdown",
      "source": [
        "A notebook is a collection of cells. Cells can contain text, or executable code and it's outputs. Text cells use markdown syntax. See this [markdown guide](https://colab.research.google.com/notebooks/markdown_guide.ipynb) to learn more.  "
      ]
    },
    {
      "metadata": {
        "id": "rS8MagZeoVn_",
        "colab_type": "text"
      },
      "cell_type": "markdown",
      "source": [
        "You can easily call the system commands within the jupyter using a ! sign."
      ]
    },
    {
      "metadata": {
        "id": "bFWVp2_Auxrm",
        "colab_type": "code",
        "colab": {
          "base_uri": "https://localhost:8080/",
          "height": 51
        },
        "outputId": "1861fea2-15a9-4608-ff79-5ac31345e69e"
      },
      "cell_type": "code",
      "source": [
        "!mkdir FEM_mesh\n",
        "!ls"
      ],
      "execution_count": 9,
      "outputs": [
        {
          "output_type": "stream",
          "text": [
            "mkdir: cannot create directory ‘FEM_mesh’: File exists\n",
            "FEM_mesh  sample_data\n"
          ],
          "name": "stdout"
        }
      ]
    },
    {
      "metadata": {
        "id": "OAij1Efph8N6",
        "colab_type": "text"
      },
      "cell_type": "markdown",
      "source": [
        "## This is a heading.\n",
        "\n",
        "You can have lists as well.\n",
        "- first item\n",
        "- second item\n",
        "- third item\n",
        "\n",
        "You can easily include Math formulas using [latex](https://www.latex-project.org/). You just need to place the statement within two **\\$** signs.\n",
        "\n",
        "$$\n",
        "\\int_0^\\pi \\sin^2(2x)\n",
        "$$\n",
        "\n",
        "Or for example, you can include matrices like this:\n",
        "\n",
        "$$A_{m,n} =\n",
        " \\begin{pmatrix}\n",
        "  a_{1,1} & a_{1,2} & \\cdots & a_{1,n} \\\\\n",
        "  a_{2,1} & a_{2,2} & \\cdots & a_{2,n} \\\\\n",
        "  \\vdots  & \\vdots  & \\ddots & \\vdots  \\\\\n",
        "  a_{m,1} & a_{m,2} & \\cdots & a_{m,n}\n",
        " \\end{pmatrix}$$\n",
        " \n"
      ]
    },
    {
      "metadata": {
        "id": "A-x-2FFQeHrV",
        "colab_type": "text"
      },
      "cell_type": "markdown",
      "source": [
        "# Introduction to Python and Numpy"
      ]
    },
    {
      "metadata": {
        "id": "qa_ANcdSzu1z",
        "colab_type": "text"
      },
      "cell_type": "markdown",
      "source": [
        "## Python"
      ]
    },
    {
      "metadata": {
        "id": "6n-blB9yugAd",
        "colab_type": "code",
        "colab": {
          "base_uri": "https://localhost:8080/",
          "height": 51
        },
        "outputId": "4f4f6d9c-41a5-44c6-9a63-3a90e0b92580"
      },
      "cell_type": "code",
      "source": [
        "# Let's define a variable\n",
        "a = 250\n",
        "print(a)\n",
        "print(type(a))"
      ],
      "execution_count": 19,
      "outputs": [
        {
          "output_type": "stream",
          "text": [
            "250\n",
            "<class 'int'>\n"
          ],
          "name": "stdout"
        }
      ]
    },
    {
      "metadata": {
        "id": "vvzB_0TmbgZj",
        "colab_type": "code",
        "colab": {}
      },
      "cell_type": "code",
      "source": [
        "x = range(10)"
      ],
      "execution_count": 0,
      "outputs": []
    },
    {
      "metadata": {
        "id": "r4F50LVahcyU",
        "colab_type": "code",
        "colab": {
          "base_uri": "https://localhost:8080/",
          "height": 187
        },
        "outputId": "a673d89c-27cb-4a25-9f9e-a76bc43d5040"
      },
      "cell_type": "code",
      "source": [
        "for i in x:\n",
        "  print(i**2)"
      ],
      "execution_count": 12,
      "outputs": [
        {
          "output_type": "stream",
          "text": [
            "0\n",
            "1\n",
            "4\n",
            "9\n",
            "16\n",
            "25\n",
            "36\n",
            "49\n",
            "64\n",
            "81\n"
          ],
          "name": "stdout"
        }
      ]
    },
    {
      "metadata": {
        "id": "JhPToUdGz1Mc",
        "colab_type": "text"
      },
      "cell_type": "markdown",
      "source": [
        "## Numpy"
      ]
    },
    {
      "metadata": {
        "id": "1-edr8Fxz33N",
        "colab_type": "text"
      },
      "cell_type": "markdown",
      "source": [
        "**Numpy is the fundamental package for scientific computing with Python.**"
      ]
    },
    {
      "metadata": {
        "id": "ZUp0AzoSk5Mn",
        "colab_type": "text"
      },
      "cell_type": "markdown",
      "source": [
        "\n",
        "\n",
        "```\n",
        "To import a library that is not in colaboratory by default, you can use !pip install ...\n",
        "```\n",
        "\n"
      ]
    },
    {
      "metadata": {
        "id": "hUy68NRFfXUb",
        "colab_type": "code",
        "colab": {
          "base_uri": "https://localhost:8080/",
          "height": 190
        },
        "outputId": "cf1467f8-45d0-4fe7-bc36-6276c005dc75"
      },
      "cell_type": "code",
      "source": [
        "!pip install numpy scipy matplotlib\n",
        "!pip install -q matplotlib-venn\n",
        "# !pip install --upgrade numpy"
      ],
      "execution_count": 6,
      "outputs": [
        {
          "output_type": "stream",
          "text": [
            "Requirement already satisfied: numpy in /usr/local/lib/python3.6/dist-packages (1.16.1)\n",
            "Requirement already satisfied: scipy in /usr/local/lib/python3.6/dist-packages (1.1.0)\n",
            "Requirement already satisfied: matplotlib in /usr/local/lib/python3.6/dist-packages (3.0.2)\n",
            "Requirement already satisfied: kiwisolver>=1.0.1 in /usr/local/lib/python3.6/dist-packages (from matplotlib) (1.0.1)\n",
            "Requirement already satisfied: pyparsing!=2.0.4,!=2.1.2,!=2.1.6,>=2.0.1 in /usr/local/lib/python3.6/dist-packages (from matplotlib) (2.3.1)\n",
            "Requirement already satisfied: cycler>=0.10 in /usr/local/lib/python3.6/dist-packages (from matplotlib) (0.10.0)\n",
            "Requirement already satisfied: python-dateutil>=2.1 in /usr/local/lib/python3.6/dist-packages (from matplotlib) (2.5.3)\n",
            "Requirement already satisfied: setuptools in /usr/local/lib/python3.6/dist-packages (from kiwisolver>=1.0.1->matplotlib) (40.8.0)\n",
            "Requirement already satisfied: six in /usr/local/lib/python3.6/dist-packages (from cycler>=0.10->matplotlib) (1.11.0)\n"
          ],
          "name": "stdout"
        }
      ]
    },
    {
      "metadata": {
        "id": "gWfhrWzKhf-c",
        "colab_type": "code",
        "colab": {
          "base_uri": "https://localhost:8080/",
          "height": 34
        },
        "outputId": "052fb880-c92d-456e-973b-f87ed4163e4d"
      },
      "cell_type": "code",
      "source": [
        "import numpy as np\n",
        "import scipy as sp\n",
        "import matplotlib.pyplot as plt\n",
        "print(np.__version__)"
      ],
      "execution_count": 14,
      "outputs": [
        {
          "output_type": "stream",
          "text": [
            "1.14.6\n"
          ],
          "name": "stdout"
        }
      ]
    },
    {
      "metadata": {
        "id": "7cdSxnGCqIUE",
        "colab_type": "code",
        "colab": {}
      },
      "cell_type": "code",
      "source": [
        "# Get inline help\n",
        "np.random?"
      ],
      "execution_count": 0,
      "outputs": []
    },
    {
      "metadata": {
        "id": "3vnqCgAtpm8b",
        "colab_type": "text"
      },
      "cell_type": "markdown",
      "source": [
        "You can also use tab-completion to explore the attributes of python objects and availble methods and functions."
      ]
    },
    {
      "metadata": {
        "id": "4DrmFYQVf2BM",
        "colab_type": "code",
        "colab": {
          "base_uri": "https://localhost:8080/",
          "height": 51
        },
        "outputId": "b1557303-260f-45ba-f0ce-180f72032cc5"
      },
      "cell_type": "code",
      "source": [
        "np.random."
      ],
      "execution_count": 10,
      "outputs": [
        {
          "output_type": "execute_result",
          "data": {
            "text/plain": [
              "array([0.77179596, 0.14646339, 0.70055715, 0.69735398, 0.85448181,\n",
              "       0.49342504, 0.6703392 , 0.80279001, 0.88579379, 0.78625372])"
            ]
          },
          "metadata": {
            "tags": []
          },
          "execution_count": 10
        }
      ]
    },
    {
      "metadata": {
        "id": "D3iRdgNiqEeR",
        "colab_type": "code",
        "colab": {}
      },
      "cell_type": "code",
      "source": [
        "np.random.rand("
      ],
      "execution_count": 0,
      "outputs": []
    },
    {
      "metadata": {
        "id": "HUaY7RuIq2il",
        "colab_type": "text"
      },
      "cell_type": "markdown",
      "source": [
        "### Commenting on a cell\n",
        "You can comment on a cell the same way that you would on Google Documents. This is going to be very handy if you want to show the TAs or your collaborators what is going wrong in your code or what they have to look at. "
      ]
    },
    {
      "metadata": {
        "id": "40wnrWv8rZTo",
        "colab_type": "code",
        "colab": {
          "base_uri": "https://localhost:8080/",
          "height": 198
        },
        "outputId": "83eb7889-0868-406a-a008-d9d5f222069a"
      },
      "cell_type": "code",
      "source": [
        "x = 1\n",
        "y = 4\n",
        "z = y/(1-x)"
      ],
      "execution_count": 12,
      "outputs": [
        {
          "output_type": "error",
          "ename": "ZeroDivisionError",
          "evalue": "ignored",
          "traceback": [
            "\u001b[0;31m---------------------------------------------------------------------------\u001b[0m",
            "\u001b[0;31mZeroDivisionError\u001b[0m                         Traceback (most recent call last)",
            "\u001b[0;32m<ipython-input-12-d93e730d8440>\u001b[0m in \u001b[0;36m<module>\u001b[0;34m()\u001b[0m\n\u001b[1;32m      1\u001b[0m \u001b[0mx\u001b[0m \u001b[0;34m=\u001b[0m \u001b[0;36m1\u001b[0m\u001b[0;34m\u001b[0m\u001b[0;34m\u001b[0m\u001b[0m\n\u001b[1;32m      2\u001b[0m \u001b[0my\u001b[0m \u001b[0;34m=\u001b[0m \u001b[0;36m4\u001b[0m\u001b[0;34m\u001b[0m\u001b[0;34m\u001b[0m\u001b[0m\n\u001b[0;32m----> 3\u001b[0;31m \u001b[0mz\u001b[0m \u001b[0;34m=\u001b[0m \u001b[0my\u001b[0m\u001b[0;34m/\u001b[0m\u001b[0;34m(\u001b[0m\u001b[0;36m1\u001b[0m\u001b[0;34m-\u001b[0m\u001b[0mx\u001b[0m\u001b[0;34m)\u001b[0m\u001b[0;34m\u001b[0m\u001b[0;34m\u001b[0m\u001b[0m\n\u001b[0m",
            "\u001b[0;31mZeroDivisionError\u001b[0m: division by zero"
          ]
        }
      ]
    },
    {
      "metadata": {
        "id": "fhBPour2sDDG",
        "colab_type": "code",
        "colab": {
          "base_uri": "https://localhost:8080/",
          "height": 187
        },
        "outputId": "e89be7a0-bfd2-4366-a117-a366b87d92a5"
      },
      "cell_type": "code",
      "source": [
        "dof = 10\n",
        "K = np.zeros((dof, dof))\n",
        "K"
      ],
      "execution_count": 16,
      "outputs": [
        {
          "output_type": "execute_result",
          "data": {
            "text/plain": [
              "array([[0., 0., 0., 0., 0., 0., 0., 0., 0., 0.],\n",
              "       [0., 0., 0., 0., 0., 0., 0., 0., 0., 0.],\n",
              "       [0., 0., 0., 0., 0., 0., 0., 0., 0., 0.],\n",
              "       [0., 0., 0., 0., 0., 0., 0., 0., 0., 0.],\n",
              "       [0., 0., 0., 0., 0., 0., 0., 0., 0., 0.],\n",
              "       [0., 0., 0., 0., 0., 0., 0., 0., 0., 0.],\n",
              "       [0., 0., 0., 0., 0., 0., 0., 0., 0., 0.],\n",
              "       [0., 0., 0., 0., 0., 0., 0., 0., 0., 0.],\n",
              "       [0., 0., 0., 0., 0., 0., 0., 0., 0., 0.],\n",
              "       [0., 0., 0., 0., 0., 0., 0., 0., 0., 0.]])"
            ]
          },
          "metadata": {
            "tags": []
          },
          "execution_count": 16
        }
      ]
    },
    {
      "metadata": {
        "id": "BJnee7bl1Zkg",
        "colab_type": "code",
        "colab": {}
      },
      "cell_type": "code",
      "source": [
        ""
      ],
      "execution_count": 0,
      "outputs": []
    }
  ]
}