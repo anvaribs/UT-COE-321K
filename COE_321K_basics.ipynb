{
  "nbformat": 4,
  "nbformat_minor": 0,
  "metadata": {
    "colab": {
      "name": "COE 321K-basics.ipynb",
      "version": "0.3.2",
      "provenance": [],
      "collapsed_sections": [],
      "toc_visible": true,
      "include_colab_link": true
    },
    "kernelspec": {
      "name": "python3",
      "display_name": "Python 3"
    }
  },
  "cells": [
    {
      "cell_type": "markdown",
      "metadata": {
        "id": "view-in-github",
        "colab_type": "text"
      },
      "source": [
        "<a href=\"https://colab.research.google.com/github/anvaribs/UT-COE-321K/blob/master/COE_321K_basics.ipynb\" target=\"_parent\"><img src=\"https://colab.research.google.com/assets/colab-badge.svg\" alt=\"Open In Colab\"/></a>"
      ]
    },
    {
      "metadata": {
        "id": "o8v51IzCcJdU",
        "colab_type": "text"
      },
      "cell_type": "markdown",
      "source": [
        "# Announcements:\n",
        "\n",
        "---\n",
        "\n",
        "\n",
        "\n",
        "### 1. HW#3 is due on **March 4, 2019**. \n",
        "### 2. Please follow all the guidelines for submitting your assignment. \n",
        "### 3. You should submit your assignment through **Canvas**. \n",
        "### 4. you must submit a PDF (hwX_yourEID.pdf) of your write-up and a zip file including all your source codes through Canvas. Name this zip file **hwX_yourEID.zip**.\n",
        "### 5. You can resubmit your assignment before the deadline.\n",
        "### 6. Only the most recent submission would be graded."
      ]
    },
    {
      "metadata": {
        "id": "MMjhMTg_gWMZ",
        "colab_type": "text"
      },
      "cell_type": "markdown",
      "source": [
        "# Agenda:\n",
        "\n",
        "\n",
        "\n",
        " - What is google Colab? Why do we use it?\n",
        " - Intro to Python and Numpy library for numerical computation.\n",
        " - Intro to [Fenics](https://fenicsproject.org/)  using high-level Python API.\n",
        " - Example programs to solve Solid Mechanics problems.\n",
        "\n",
        "\n",
        "\n",
        " "
      ]
    },
    {
      "metadata": {
        "id": "SqDP78Lzb6_m",
        "colab_type": "text"
      },
      "cell_type": "markdown",
      "source": [
        "# Google Colab\n",
        "\n",
        "**You can think of Google Colab as Jupyter Notebook stored in google cloud! **\n",
        "\n",
        "1. Everything runs on cloud. You do not have to install or build anything on your local machine. You do not have to be worried about dependencies locally. \n",
        "2. It allows you to share your work with me and other TAs, see [this](https://support.google.com/drive/answer/2494822?co=GENIE.Platform%3DDesktop&hl=en). We can run your code in a completely consistent enviroment and figure out what is going wrong.\n",
        "* For interaction between colab and github see, [Using Colab with GitHub](https://colab.research.google.com/github/googlecolab/colabtools/blob/master/notebooks/colab-github-demo.ipynb)\n",
        "3. You can also use a GPU to run your code.\n",
        "4. You can extend the power of the notebook by installing new libraries using pip install.\n",
        "5. Google colab integrates nicely with Github, so that you can load notebooks from Github and also save notebooks to Github.\n",
        "\n",
        "\n",
        "\n",
        "\n",
        "**Note**: Environmental variables and libraries that you build does not persist accross multiple sessions."
      ]
    },
    {
      "metadata": {
        "id": "N3NikCfUfK62",
        "colab_type": "code",
        "colab": {
          "base_uri": "https://localhost:8080/",
          "height": 51
        },
        "outputId": "69cb6ab6-1cb7-47de-8de8-6024b0df422c"
      },
      "cell_type": "code",
      "source": [
        "print(\"Show available RAM memory:\")\n",
        "!cat /proc/meminfo | grep MemTotal"
      ],
      "execution_count": 5,
      "outputs": [
        {
          "output_type": "stream",
          "text": [
            "Show available RAM memory:\n",
            "MemTotal:       13335276 kB\n"
          ],
          "name": "stdout"
        }
      ]
    },
    {
      "metadata": {
        "id": "ULdNMNuwfmWH",
        "colab_type": "code",
        "colab": {}
      },
      "cell_type": "code",
      "source": [
        "# print(\"Check CPUs info:\")\n",
        "# !cat /proc/cpuinfo"
      ],
      "execution_count": 0,
      "outputs": []
    },
    {
      "metadata": {
        "id": "T6E63Ijxsj0f",
        "colab_type": "code",
        "colab": {}
      },
      "cell_type": "code",
      "source": [
        "!pip install -q matplotlib-venn\n",
        "\n",
        "import matplotlib_venn as venn"
      ],
      "execution_count": 0,
      "outputs": []
    },
    {
      "metadata": {
        "id": "v6hfR_9mh3W2",
        "colab_type": "text"
      },
      "cell_type": "markdown",
      "source": [
        "# A quick intro to Jupyter notebook"
      ]
    },
    {
      "metadata": {
        "id": "Ghea_kxeu-f0",
        "colab_type": "text"
      },
      "cell_type": "markdown",
      "source": [
        "A notebook is a collection of cells. Cells can contain text, or executable code and it's outputs. Text cells use markdown syntax. See this [markdown guide](https://colab.research.google.com/notebooks/markdown_guide.ipynb) to learn more.  "
      ]
    },
    {
      "metadata": {
        "id": "rS8MagZeoVn_",
        "colab_type": "text"
      },
      "cell_type": "markdown",
      "source": [
        "You can easily call the system commands within the jupyter using a ! sign."
      ]
    },
    {
      "metadata": {
        "id": "bFWVp2_Auxrm",
        "colab_type": "code",
        "colab": {
          "base_uri": "https://localhost:8080/",
          "height": 51
        },
        "outputId": "bb1028fa-60c9-4c14-8c22-73bdbdf78279"
      },
      "cell_type": "code",
      "source": [
        "!mkdir FEM_mesh\n",
        "!ls"
      ],
      "execution_count": 41,
      "outputs": [
        {
          "output_type": "stream",
          "text": [
            "mkdir: cannot create directory ‘FEM_mesh’: File exists\n",
            "FEM_mesh  sample_data\n"
          ],
          "name": "stdout"
        }
      ]
    },
    {
      "metadata": {
        "id": "OAij1Efph8N6",
        "colab_type": "text"
      },
      "cell_type": "markdown",
      "source": [
        "## This is a heading.\n",
        "\n",
        "You can have lists as well.\n",
        "- first item\n",
        "- second item\n",
        "- third item\n",
        "\n",
        "You can easily include Math formulas using [latex](https://www.latex-project.org/). You just need to place the statement within two **\\$** signs.\n",
        "\n",
        "$$\n",
        "\\int_0^\\pi \\sin^2(2x)\n",
        "$$\n",
        "\n",
        "Or for example, you can include matrices like this:\n",
        "\n",
        "$$A_{m,n} =\n",
        " \\begin{pmatrix}\n",
        "  a_{1,1} & a_{1,2} & \\cdots & a_{1,n} \\\\\n",
        "  a_{2,1} & a_{2,2} & \\cdots & a_{2,n} \\\\\n",
        "  \\vdots  & \\vdots  & \\ddots & \\vdots  \\\\\n",
        "  a_{m,1} & a_{m,2} & \\cdots & a_{m,n}\n",
        " \\end{pmatrix}$$\n",
        " \n"
      ]
    },
    {
      "metadata": {
        "id": "rzn-KpOnDXep",
        "colab_type": "code",
        "colab": {
          "base_uri": "https://localhost:8080/",
          "height": 34
        },
        "outputId": "34ba393b-176f-4880-fcb4-3e68e6b8dc8e"
      },
      "cell_type": "code",
      "source": [
        "# This is a code cell. \n",
        "# You can perform computations in Python in code cells and run them.\n",
        "\n",
        "7 ** 2"
      ],
      "execution_count": 27,
      "outputs": [
        {
          "output_type": "execute_result",
          "data": {
            "text/plain": [
              "49"
            ]
          },
          "metadata": {
            "tags": []
          },
          "execution_count": 27
        }
      ]
    },
    {
      "metadata": {
        "id": "tRYVpiPoFzub",
        "colab_type": "code",
        "colab": {
          "base_uri": "https://localhost:8080/",
          "height": 34
        },
        "outputId": "3f31f50b-5ea9-4425-d488-eccc52e6858f"
      },
      "cell_type": "code",
      "source": [
        "# Line magics\n",
        "%timeit [i+1 for i in range(1000)]"
      ],
      "execution_count": 28,
      "outputs": [
        {
          "output_type": "stream",
          "text": [
            "10000 loops, best of 3: 71.3 µs per loop\n"
          ],
          "name": "stdout"
        }
      ]
    },
    {
      "metadata": {
        "id": "Bw-S_25FDyrA",
        "colab_type": "text"
      },
      "cell_type": "markdown",
      "source": [
        "\n",
        "This combination of text and code makes Jupyter Notebook ideal for experimentation and learning: we can see the rationale for each experiment, the code and the results in one comprehensive document."
      ]
    },
    {
      "metadata": {
        "id": "hBf328CeE6lT",
        "colab_type": "text"
      },
      "cell_type": "markdown",
      "source": [
        "last but not least, to include links in your Jupyter notebook, just surround the text you want to link with '[]' and place the link adjacent to the text, sorround with '()'. like [this](https://www.google.com/).\n"
      ]
    },
    {
      "metadata": {
        "id": "A-x-2FFQeHrV",
        "colab_type": "text"
      },
      "cell_type": "markdown",
      "source": [
        "# Introduction to Python and Numpy"
      ]
    },
    {
      "metadata": {
        "id": "qa_ANcdSzu1z",
        "colab_type": "text"
      },
      "cell_type": "markdown",
      "source": [
        "## Python"
      ]
    },
    {
      "metadata": {
        "id": "6n-blB9yugAd",
        "colab_type": "code",
        "colab": {
          "base_uri": "https://localhost:8080/",
          "height": 51
        },
        "outputId": "4f4f6d9c-41a5-44c6-9a63-3a90e0b92580"
      },
      "cell_type": "code",
      "source": [
        "# Let's define a variable\n",
        "a = 250\n",
        "print(a)\n",
        "print(type(a))"
      ],
      "execution_count": 19,
      "outputs": [
        {
          "output_type": "stream",
          "text": [
            "250\n",
            "<class 'int'>\n"
          ],
          "name": "stdout"
        }
      ]
    },
    {
      "metadata": {
        "id": "vvzB_0TmbgZj",
        "colab_type": "code",
        "colab": {}
      },
      "cell_type": "code",
      "source": [
        "x = range(10)"
      ],
      "execution_count": 0,
      "outputs": []
    },
    {
      "metadata": {
        "id": "r4F50LVahcyU",
        "colab_type": "code",
        "colab": {
          "base_uri": "https://localhost:8080/",
          "height": 187
        },
        "outputId": "a673d89c-27cb-4a25-9f9e-a76bc43d5040"
      },
      "cell_type": "code",
      "source": [
        "for i in x:\n",
        "  print(i**2)"
      ],
      "execution_count": 12,
      "outputs": [
        {
          "output_type": "stream",
          "text": [
            "0\n",
            "1\n",
            "4\n",
            "9\n",
            "16\n",
            "25\n",
            "36\n",
            "49\n",
            "64\n",
            "81\n"
          ],
          "name": "stdout"
        }
      ]
    },
    {
      "metadata": {
        "id": "JhPToUdGz1Mc",
        "colab_type": "text"
      },
      "cell_type": "markdown",
      "source": [
        "## Numpy"
      ]
    },
    {
      "metadata": {
        "id": "1-edr8Fxz33N",
        "colab_type": "text"
      },
      "cell_type": "markdown",
      "source": [
        "**Numpy is the fundamental package for scientific computing with Python. It provides a high-performance multidimensional array object, and tools for working with these arrays.**\n",
        "\n",
        "If you are already a MATLAB programmer, you might find [this tutorial](https://docs.scipy.org/doc/numpy/user/numpy-for-matlab-users.html) useful. "
      ]
    },
    {
      "metadata": {
        "id": "ZUp0AzoSk5Mn",
        "colab_type": "text"
      },
      "cell_type": "markdown",
      "source": [
        "\n",
        "\n",
        "```\n",
        "To import a library that is not in colaboratory by default, you can use !pip install.\n",
        "```\n",
        "\n"
      ]
    },
    {
      "metadata": {
        "id": "hUy68NRFfXUb",
        "colab_type": "code",
        "colab": {
          "base_uri": "https://localhost:8080/",
          "height": 190
        },
        "outputId": "cf1467f8-45d0-4fe7-bc36-6276c005dc75"
      },
      "cell_type": "code",
      "source": [
        "!pip install numpy scipy matplotlib\n",
        "!pip install -q matplotlib-venn\n",
        "# !pip install --upgrade numpy"
      ],
      "execution_count": 6,
      "outputs": [
        {
          "output_type": "stream",
          "text": [
            "Requirement already satisfied: numpy in /usr/local/lib/python3.6/dist-packages (1.16.1)\n",
            "Requirement already satisfied: scipy in /usr/local/lib/python3.6/dist-packages (1.1.0)\n",
            "Requirement already satisfied: matplotlib in /usr/local/lib/python3.6/dist-packages (3.0.2)\n",
            "Requirement already satisfied: kiwisolver>=1.0.1 in /usr/local/lib/python3.6/dist-packages (from matplotlib) (1.0.1)\n",
            "Requirement already satisfied: pyparsing!=2.0.4,!=2.1.2,!=2.1.6,>=2.0.1 in /usr/local/lib/python3.6/dist-packages (from matplotlib) (2.3.1)\n",
            "Requirement already satisfied: cycler>=0.10 in /usr/local/lib/python3.6/dist-packages (from matplotlib) (0.10.0)\n",
            "Requirement already satisfied: python-dateutil>=2.1 in /usr/local/lib/python3.6/dist-packages (from matplotlib) (2.5.3)\n",
            "Requirement already satisfied: setuptools in /usr/local/lib/python3.6/dist-packages (from kiwisolver>=1.0.1->matplotlib) (40.8.0)\n",
            "Requirement already satisfied: six in /usr/local/lib/python3.6/dist-packages (from cycler>=0.10->matplotlib) (1.11.0)\n"
          ],
          "name": "stdout"
        }
      ]
    },
    {
      "metadata": {
        "id": "gWfhrWzKhf-c",
        "colab_type": "code",
        "colab": {
          "base_uri": "https://localhost:8080/",
          "height": 34
        },
        "outputId": "052fb880-c92d-456e-973b-f87ed4163e4d"
      },
      "cell_type": "code",
      "source": [
        "import numpy as np\n",
        "import scipy as sp\n",
        "import matplotlib.pyplot as plt\n",
        "print(np.__version__)"
      ],
      "execution_count": 14,
      "outputs": [
        {
          "output_type": "stream",
          "text": [
            "1.14.6\n"
          ],
          "name": "stdout"
        }
      ]
    },
    {
      "metadata": {
        "id": "7cdSxnGCqIUE",
        "colab_type": "code",
        "colab": {}
      },
      "cell_type": "code",
      "source": [
        "# Get inline help\n",
        "np.random?"
      ],
      "execution_count": 0,
      "outputs": []
    },
    {
      "metadata": {
        "id": "3vnqCgAtpm8b",
        "colab_type": "text"
      },
      "cell_type": "markdown",
      "source": [
        "You can also use tab-completion to explore the attributes of python objects and availble methods and functions."
      ]
    },
    {
      "metadata": {
        "id": "4DrmFYQVf2BM",
        "colab_type": "code",
        "colab": {
          "base_uri": "https://localhost:8080/",
          "height": 51
        },
        "outputId": "b1557303-260f-45ba-f0ce-180f72032cc5"
      },
      "cell_type": "code",
      "source": [
        "np.random."
      ],
      "execution_count": 10,
      "outputs": [
        {
          "output_type": "execute_result",
          "data": {
            "text/plain": [
              "array([0.77179596, 0.14646339, 0.70055715, 0.69735398, 0.85448181,\n",
              "       0.49342504, 0.6703392 , 0.80279001, 0.88579379, 0.78625372])"
            ]
          },
          "metadata": {
            "tags": []
          },
          "execution_count": 10
        }
      ]
    },
    {
      "metadata": {
        "id": "D3iRdgNiqEeR",
        "colab_type": "code",
        "colab": {}
      },
      "cell_type": "code",
      "source": [
        "np.random.rand("
      ],
      "execution_count": 0,
      "outputs": []
    },
    {
      "metadata": {
        "id": "HUaY7RuIq2il",
        "colab_type": "text"
      },
      "cell_type": "markdown",
      "source": [
        "### Commenting on a cell\n",
        "You can comment on a cell the same way that you would on Google Documents. This is going to be very handy if you want to show the TAs or your collaborators what is going wrong in your code or what they have to look at. For example, look at this peice of code:"
      ]
    },
    {
      "metadata": {
        "id": "40wnrWv8rZTo",
        "colab_type": "code",
        "colab": {
          "base_uri": "https://localhost:8080/",
          "height": 198
        },
        "outputId": "07f1efce-bdff-490b-dafe-5ab4da170382"
      },
      "cell_type": "code",
      "source": [
        "x = 1\n",
        "y = 4\n",
        "z = y/(1-x)"
      ],
      "execution_count": 17,
      "outputs": [
        {
          "output_type": "error",
          "ename": "ZeroDivisionError",
          "evalue": "ignored",
          "traceback": [
            "\u001b[0;31m---------------------------------------------------------------------------\u001b[0m",
            "\u001b[0;31mZeroDivisionError\u001b[0m                         Traceback (most recent call last)",
            "\u001b[0;32m<ipython-input-17-d93e730d8440>\u001b[0m in \u001b[0;36m<module>\u001b[0;34m()\u001b[0m\n\u001b[1;32m      1\u001b[0m \u001b[0mx\u001b[0m \u001b[0;34m=\u001b[0m \u001b[0;36m1\u001b[0m\u001b[0;34m\u001b[0m\u001b[0;34m\u001b[0m\u001b[0m\n\u001b[1;32m      2\u001b[0m \u001b[0my\u001b[0m \u001b[0;34m=\u001b[0m \u001b[0;36m4\u001b[0m\u001b[0;34m\u001b[0m\u001b[0;34m\u001b[0m\u001b[0m\n\u001b[0;32m----> 3\u001b[0;31m \u001b[0mz\u001b[0m \u001b[0;34m=\u001b[0m \u001b[0my\u001b[0m\u001b[0;34m/\u001b[0m\u001b[0;34m(\u001b[0m\u001b[0;36m1\u001b[0m\u001b[0;34m-\u001b[0m\u001b[0mx\u001b[0m\u001b[0;34m)\u001b[0m\u001b[0;34m\u001b[0m\u001b[0;34m\u001b[0m\u001b[0m\n\u001b[0m",
            "\u001b[0;31mZeroDivisionError\u001b[0m: division by zero"
          ]
        }
      ]
    },
    {
      "metadata": {
        "id": "hFOgmq__33xA",
        "colab_type": "text"
      },
      "cell_type": "markdown",
      "source": [
        "### Arrays\n",
        "\n",
        "A numpy array is a grid of values, all of the same type, and is indexed by a tuple of nonnegative integers. The number of dimensions is the rank of the array; the shape of an array is a tuple of integers giving the size of the array along each dimension.\n",
        "\n",
        "We can initialize numpy arrays from nested Python lists, and access elements using square brackets:"
      ]
    },
    {
      "metadata": {
        "id": "fhBPour2sDDG",
        "colab_type": "code",
        "colab": {
          "base_uri": "https://localhost:8080/",
          "height": 119
        },
        "outputId": "9ee768eb-1e97-4593-f08a-9029cc3c7091"
      },
      "cell_type": "code",
      "source": [
        "a = np.array([1, 2, 3])   # Create a rank 1 array\n",
        "print(type(a))            # Prints \"<class 'numpy.ndarray'>\"\n",
        "print(a.shape)            # Prints \"(3,)\"\n",
        "print(a[0], a[1], a[2])   # Prints \"1 2 3\"\n",
        "a[0] = 5                  # Change an element of the array\n",
        "print(a)                  # Prints \"[5, 2, 3]\"\n",
        "\n",
        "b = np.array([[1,2,3],[4,5,6]])    # Create a rank 2 array\n",
        "print(b.shape)                     # Prints \"(2, 3)\"\n",
        "print(b[0, 0], b[0, 1], b[1, 0])   # Prints \"1 2 4\""
      ],
      "execution_count": 19,
      "outputs": [
        {
          "output_type": "stream",
          "text": [
            "<class 'numpy.ndarray'>\n",
            "(3,)\n",
            "1 2 3\n",
            "[5 2 3]\n",
            "(2, 3)\n",
            "1 2 4\n"
          ],
          "name": "stdout"
        }
      ]
    },
    {
      "metadata": {
        "id": "rMGDpwdA4YQy",
        "colab_type": "text"
      },
      "cell_type": "markdown",
      "source": [
        "**You can create arrays in [many different ways](https://docs.scipy.org/doc/numpy/user/basics.creation.html#arrays-creation)**:"
      ]
    },
    {
      "metadata": {
        "id": "BJnee7bl1Zkg",
        "colab_type": "code",
        "colab": {
          "base_uri": "https://localhost:8080/",
          "height": 204
        },
        "outputId": "d2946e64-c5aa-40e1-c658-03341cf19afd"
      },
      "cell_type": "code",
      "source": [
        "a = np.zeros((2,2))   # Create an array of all zeros\n",
        "print(a)              # Prints \"[[ 0.  0.]\n",
        "                      #          [ 0.  0.]]\"\n",
        "\n",
        "b = np.ones((1,2))    # Create an array of all ones\n",
        "print(b)              # Prints \"[[ 1.  1.]]\"\n",
        "\n",
        "c = np.full((2,2), 7)  # Create a constant array\n",
        "print(c)               # Prints \"[[ 7.  7.]\n",
        "                       #          [ 7.  7.]]\"\n",
        "\n",
        "d = np.eye(2)         # Create a 2x2 identity matrix\n",
        "print(d)              # Prints \"[[ 1.  0.]\n",
        "                      #          [ 0.  1.]]\"\n",
        "\n",
        "e = np.random.random((2,2))  # Create an array filled with random values\n",
        "print(e)                     # Might print \"[[ 0.91940167  0.08143941]\n",
        "                             #               [ 0.68744134  0.87236687]]\"\n",
        "  \n",
        "  \n",
        "# arange vs linspace\n",
        "print(np.arange( 0, 2, 0.3 ))\n",
        "print(np.linspace( 0, 2, 9 ))"
      ],
      "execution_count": 46,
      "outputs": [
        {
          "output_type": "stream",
          "text": [
            "[[0. 0.]\n",
            " [0. 0.]]\n",
            "[[1. 1.]]\n",
            "[[7 7]\n",
            " [7 7]]\n",
            "[[1. 0.]\n",
            " [0. 1.]]\n",
            "[[0.68707404 0.89400762]\n",
            " [0.48915709 0.08348606]]\n",
            "[0.  0.3 0.6 0.9 1.2 1.5 1.8]\n",
            "[0.   0.25 0.5  0.75 1.   1.25 1.5  1.75 2.  ]\n"
          ],
          "name": "stdout"
        }
      ]
    },
    {
      "metadata": {
        "id": "MVW_mc8y411G",
        "colab_type": "text"
      },
      "cell_type": "markdown",
      "source": [
        "### Array indexing"
      ]
    },
    {
      "metadata": {
        "id": "9N4gNnIc6mRP",
        "colab_type": "text"
      },
      "cell_type": "markdown",
      "source": [
        "Take a look at [this](https://docs.scipy.org/doc/numpy/reference/arrays.indexing.html)."
      ]
    },
    {
      "metadata": {
        "id": "-RRavjEU5IHI",
        "colab_type": "text"
      },
      "cell_type": "markdown",
      "source": [
        "#### Slicing"
      ]
    },
    {
      "metadata": {
        "id": "Db78dboO4kw-",
        "colab_type": "code",
        "colab": {
          "base_uri": "https://localhost:8080/",
          "height": 51
        },
        "outputId": "03564df5-21b8-404d-cc79-01526d2d29b4"
      },
      "cell_type": "code",
      "source": [
        "# Create the following rank 2 array with shape (3, 4)\n",
        "# [[ 1  2  3  4]\n",
        "#  [ 5  6  7  8]\n",
        "#  [ 9 10 11 12]]\n",
        "a = np.array([[1,2,3,4], [5,6,7,8], [9,10,11,12]])\n",
        "\n",
        "# Use slicing to pull out the subarray consisting of the first 2 rows\n",
        "# and columns 1 and 2; b is the following array of shape (2, 2):\n",
        "# [[2 3]\n",
        "#  [6 7]]\n",
        "b = a[:2, 1:3]\n",
        "\n",
        "# A slice of an array is a view into the same data, so modifying it\n",
        "# will modify the original array.\n",
        "print(a[0, 1])   # Prints \"2\"\n",
        "b[0, 0] = 77     # b[0, 0] is the same piece of data as a[0, 1]\n",
        "print(a[0, 1])   # Prints \"77\""
      ],
      "execution_count": 21,
      "outputs": [
        {
          "output_type": "stream",
          "text": [
            "2\n",
            "77\n"
          ],
          "name": "stdout"
        }
      ]
    },
    {
      "metadata": {
        "id": "igOsGlCj5p--",
        "colab_type": "text"
      },
      "cell_type": "markdown",
      "source": [
        "**You can also mix integer indexing with slice indexing. However, doing so will yield an array of lower rank than the original array. Note that this is quite different from the way that MATLAB handles array slicing:**"
      ]
    },
    {
      "metadata": {
        "id": "vhOqnarh5KDk",
        "colab_type": "code",
        "colab": {
          "base_uri": "https://localhost:8080/",
          "height": 119
        },
        "outputId": "9dcc4b5c-05f4-478a-fb8a-b5b4d8e6e34f"
      },
      "cell_type": "code",
      "source": [
        "# Create the following rank 2 array with shape (3, 4)\n",
        "# [[ 1  2  3  4]\n",
        "#  [ 5  6  7  8]\n",
        "#  [ 9 10 11 12]]\n",
        "a = np.array([[1,2,3,4], [5,6,7,8], [9,10,11,12]])\n",
        "\n",
        "# Two ways of accessing the data in the middle row of the array.\n",
        "# Mixing integer indexing with slices yields an array of lower rank,\n",
        "# while using only slices yields an array of the same rank as the\n",
        "# original array:\n",
        "row_r1 = a[1, :]    # Rank 1 view of the second row of a\n",
        "row_r2 = a[1:2, :]  # Rank 2 view of the second row of a\n",
        "print(row_r1, row_r1.shape)  # Prints \"[5 6 7 8] (4,)\"\n",
        "print(row_r2, row_r2.shape)  # Prints \"[[5 6 7 8]] (1, 4)\"\n",
        "\n",
        "# We can make the same distinction when accessing columns of an array:\n",
        "col_r1 = a[:, 1]\n",
        "col_r2 = a[:, 1:2]\n",
        "print(col_r1, col_r1.shape)  # Prints \"[ 2  6 10] (3,)\"\n",
        "print(col_r2, col_r2.shape)  # Prints \"[[ 2]\n",
        "                             #          [ 6]\n",
        "                             #          [10]] (3, 1)\""
      ],
      "execution_count": 22,
      "outputs": [
        {
          "output_type": "stream",
          "text": [
            "[5 6 7 8] (4,)\n",
            "[[5 6 7 8]] (1, 4)\n",
            "[ 2  6 10] (3,)\n",
            "[[ 2]\n",
            " [ 6]\n",
            " [10]] (3, 1)\n"
          ],
          "name": "stdout"
        }
      ]
    },
    {
      "metadata": {
        "id": "RhZUALKk6Fle",
        "colab_type": "text"
      },
      "cell_type": "markdown",
      "source": [
        "#### Integer array indexing: \n",
        "\n",
        "When you index into numpy arrays using slicing, the resulting array view will always be a subarray of the original array. In contrast, integer array indexing allows you to construct arbitrary arrays using the data from another array. Here is an example:"
      ]
    },
    {
      "metadata": {
        "id": "7mQigmmn5hFw",
        "colab_type": "code",
        "colab": {
          "base_uri": "https://localhost:8080/",
          "height": 85
        },
        "outputId": "bd3b3af4-9d2a-4f7a-c9cc-1df1353f82d2"
      },
      "cell_type": "code",
      "source": [
        "a = np.array([[1,2], [3, 4], [5, 6]])\n",
        "\n",
        "# An example of integer array indexing.\n",
        "# The returned array will have shape (3,) and\n",
        "print(a[[0, 1, 2], [0, 1, 0]])  # Prints \"[1 4 5]\"\n",
        "\n",
        "# The above example of integer array indexing is equivalent to this:\n",
        "print(np.array([a[0, 0], a[1, 1], a[2, 0]]))  # Prints \"[1 4 5]\"\n",
        "\n",
        "# When using integer array indexing, you can reuse the same\n",
        "# element from the source array:\n",
        "print(a[[0, 0], [1, 1]])  # Prints \"[2 2]\"\n",
        "\n",
        "# Equivalent to the previous integer array indexing example\n",
        "print(np.array([a[0, 1], a[0, 1]]))  # Prints \"[2 2]\""
      ],
      "execution_count": 23,
      "outputs": [
        {
          "output_type": "stream",
          "text": [
            "[1 4 5]\n",
            "[1 4 5]\n",
            "[2 2]\n",
            "[2 2]\n"
          ],
          "name": "stdout"
        }
      ]
    },
    {
      "metadata": {
        "id": "NgSAkEvH6Waa",
        "colab_type": "text"
      },
      "cell_type": "markdown",
      "source": [
        "#### Boolean array indexing: \n",
        "Boolean array indexing lets you pick out arbitrary elements of an array. Frequently this type of indexing is used to select the elements of an array that satisfy some condition. Here is an example:"
      ]
    },
    {
      "metadata": {
        "id": "feuOWO5r6LTs",
        "colab_type": "code",
        "colab": {
          "base_uri": "https://localhost:8080/",
          "height": 102
        },
        "outputId": "89d6b47c-d82d-4028-da8b-e48be0ef30ae"
      },
      "cell_type": "code",
      "source": [
        "import numpy as np\n",
        "\n",
        "a = np.array([[1,2], [3, 4], [5, 6]])\n",
        "\n",
        "bool_idx = (a > 2)   # Find the elements of a that are bigger than 2;\n",
        "                     # this returns a numpy array of Booleans of the same\n",
        "                     # shape as a, where each slot of bool_idx tells\n",
        "                     # whether that element of a is > 2.\n",
        "\n",
        "print(bool_idx)      # Prints \"[[False False]\n",
        "                     #          [ True  True]\n",
        "                     #          [ True  True]]\"\n",
        "\n",
        "# We use boolean array indexing to construct a rank 1 array\n",
        "# consisting of the elements of a corresponding to the True values\n",
        "# of bool_idx\n",
        "print(a[bool_idx])  # Prints \"[3 4 5 6]\"\n",
        "\n",
        "# We can do all of the above in a single concise statement:\n",
        "print(a[a > 2])     # Prints \"[3 4 5 6]\""
      ],
      "execution_count": 24,
      "outputs": [
        {
          "output_type": "stream",
          "text": [
            "[[False False]\n",
            " [ True  True]\n",
            " [ True  True]]\n",
            "[3 4 5 6]\n",
            "[3 4 5 6]\n"
          ],
          "name": "stdout"
        }
      ]
    },
    {
      "metadata": {
        "id": "_66uS4AVGrLU",
        "colab_type": "text"
      },
      "cell_type": "markdown",
      "source": [
        "### Datatypes\n",
        "Every numpy array is a grid of elements of the same type. Numpy provides a large set of numeric [datatypes](https://docs.scipy.org/doc/numpy/reference/arrays.dtypes.html) that you can use to construct arrays. Numpy tries to guess a datatype when you create an array, but functions that construct arrays usually also include an optional argument to explicitly specify the datatype. Here is an example:"
      ]
    },
    {
      "metadata": {
        "id": "6yfeyNya6ape",
        "colab_type": "code",
        "colab": {
          "base_uri": "https://localhost:8080/",
          "height": 85
        },
        "outputId": "6ed38ace-6265-46ae-df77-269eaf383ba4"
      },
      "cell_type": "code",
      "source": [
        "x = np.array([1, 2])   # Let numpy choose the datatype\n",
        "print(x.dtype)         # Prints \"int64\"\n",
        "\n",
        "x = np.array([1.0, 2.0])   # Let numpy choose the datatype\n",
        "print(x.dtype)             # Prints \"float64\"\n",
        "\n",
        "x = np.array([1, 2], dtype=np.float)   # Force a particular datatype\n",
        "print(x)\n",
        "print(x.dtype)                         # Prints \"int64\""
      ],
      "execution_count": 35,
      "outputs": [
        {
          "output_type": "stream",
          "text": [
            "int64\n",
            "float64\n",
            "[1. 2.]\n",
            "float64\n"
          ],
          "name": "stdout"
        }
      ]
    },
    {
      "metadata": {
        "id": "N9lnEUc0HQ2w",
        "colab_type": "text"
      },
      "cell_type": "markdown",
      "source": [
        "### Array math\n",
        "Basic mathematical functions operate elementwise on arrays, and are available both as operator overloads and as functions in the numpy module:"
      ]
    },
    {
      "metadata": {
        "id": "fWsd_UVSG94T",
        "colab_type": "code",
        "colab": {
          "base_uri": "https://localhost:8080/",
          "height": 323
        },
        "outputId": "a710e663-9893-40e2-eb6f-cad35b56bc68"
      },
      "cell_type": "code",
      "source": [
        "x = np.array([[1,2],[3,4]], dtype=np.float64)\n",
        "y = np.array([[5,6],[7,8]], dtype=np.float64)\n",
        "\n",
        "# Elementwise sum; both produce the array\n",
        "# [[ 6.0  8.0]\n",
        "#  [10.0 12.0]]\n",
        "print(x + y)\n",
        "print(np.add(x, y))\n",
        "\n",
        "# Elementwise difference; both produce the array\n",
        "# [[-4.0 -4.0]\n",
        "#  [-4.0 -4.0]]\n",
        "print(x - y)\n",
        "print(np.subtract(x, y))\n",
        "\n",
        "# Elementwise product; both produce the array\n",
        "# [[ 5.0 12.0]\n",
        "#  [21.0 32.0]]\n",
        "print(x * y)\n",
        "print(np.multiply(x, y))\n",
        "\n",
        "# Elementwise division; both produce the array\n",
        "# [[ 0.2         0.33333333]\n",
        "#  [ 0.42857143  0.5       ]]\n",
        "print(x / y)\n",
        "print(np.divide(x, y))\n",
        "\n",
        "# Elementwise square root; produces the array\n",
        "# [[ 1.          1.41421356]\n",
        "#  [ 1.73205081  2.        ]]\n",
        "print(np.sqrt(x))"
      ],
      "execution_count": 36,
      "outputs": [
        {
          "output_type": "stream",
          "text": [
            "[[ 6.  8.]\n",
            " [10. 12.]]\n",
            "[[ 6.  8.]\n",
            " [10. 12.]]\n",
            "[[-4. -4.]\n",
            " [-4. -4.]]\n",
            "[[-4. -4.]\n",
            " [-4. -4.]]\n",
            "[[ 5. 12.]\n",
            " [21. 32.]]\n",
            "[[ 5. 12.]\n",
            " [21. 32.]]\n",
            "[[0.2        0.33333333]\n",
            " [0.42857143 0.5       ]]\n",
            "[[0.2        0.33333333]\n",
            " [0.42857143 0.5       ]]\n",
            "[[1.         1.41421356]\n",
            " [1.73205081 2.        ]]\n"
          ],
          "name": "stdout"
        }
      ]
    },
    {
      "metadata": {
        "id": "qEx8J31aHmLS",
        "colab_type": "text"
      },
      "cell_type": "markdown",
      "source": [
        "Note that unlike MATLAB, **\\*** is elementwise multiplication, not matrix multiplication. We instead use the **dot** function to compute inner products of vectors, to multiply a vector by a matrix, and to multiply matrices. **dot** is available both as a function in the numpy module and as an instance method of array objects."
      ]
    },
    {
      "metadata": {
        "id": "fQ1lzsllHVje",
        "colab_type": "code",
        "colab": {
          "base_uri": "https://localhost:8080/",
          "height": 153
        },
        "outputId": "ccf26666-f97a-45d7-ddc1-5af4a7321aaa"
      },
      "cell_type": "code",
      "source": [
        "x = np.array([[1,2],[3,4]])\n",
        "y = np.array([[5,6],[7,8]])\n",
        "\n",
        "v = np.array([9,10])\n",
        "w = np.array([11, 12])\n",
        "\n",
        "# Inner product of vectors; both produce 219\n",
        "print(v.dot(w))\n",
        "print(np.dot(v, w))\n",
        "\n",
        "# Matrix / vector product; both produce the rank 1 array [29 67]\n",
        "print(x.dot(v))\n",
        "print(np.dot(x, v))\n",
        "\n",
        "# Matrix / matrix product; both produce the rank 2 array\n",
        "# [[19 22]\n",
        "#  [43 50]]\n",
        "print(x.dot(y))\n",
        "print(np.dot(x, y))"
      ],
      "execution_count": 37,
      "outputs": [
        {
          "output_type": "stream",
          "text": [
            "219\n",
            "219\n",
            "[29 67]\n",
            "[29 67]\n",
            "[[19 22]\n",
            " [43 50]]\n",
            "[[19 22]\n",
            " [43 50]]\n"
          ],
          "name": "stdout"
        }
      ]
    },
    {
      "metadata": {
        "id": "_84zZCm6I9C8",
        "colab_type": "text"
      },
      "cell_type": "markdown",
      "source": [
        "Numpy provides [many](https://docs.scipy.org/doc/numpy/reference/routines.math.html) useful functions for performing computations on arrays; such as **sum, sin, cos, exp, log,  **"
      ]
    },
    {
      "metadata": {
        "id": "rChkm8NyIZ1b",
        "colab_type": "code",
        "colab": {}
      },
      "cell_type": "code",
      "source": [
        "x = np.array([[1,2],[3,4]])\n",
        "\n",
        "print(np.sum(x))  # Compute sum of all elements; prints \"10\"\n",
        "print(np.sum(x, axis=0))  # Compute sum of each column; prints \"[4 6]\"\n",
        "print(np.sum(x, axis=1))  # Compute sum of each row; prints \"[3 7]\""
      ],
      "execution_count": 0,
      "outputs": []
    },
    {
      "metadata": {
        "id": "ZEmOMU57UjTm",
        "colab_type": "text"
      },
      "cell_type": "markdown",
      "source": [
        "### No Copy at all"
      ]
    },
    {
      "metadata": {
        "id": "5TLZYkQLUyXm",
        "colab_type": "text"
      },
      "cell_type": "markdown",
      "source": [
        "Simple assignments make no copy of array objects or of their data.\n",
        "\n"
      ]
    },
    {
      "metadata": {
        "id": "5138DdoTUoN7",
        "colab_type": "code",
        "colab": {
          "base_uri": "https://localhost:8080/",
          "height": 51
        },
        "outputId": "3c9bb8eb-528f-49f4-ba1e-8e93ec5551a1"
      },
      "cell_type": "code",
      "source": [
        "a = np.arange(12)\n",
        "b = a            # no new object is created\n",
        "print(b is a)           # a and b are two names for the same ndarray object\n",
        "\n",
        "b.shape = 3,4    # changes the shape of a\n",
        "a.shape\n"
      ],
      "execution_count": 54,
      "outputs": [
        {
          "output_type": "stream",
          "text": [
            "True\n"
          ],
          "name": "stdout"
        },
        {
          "output_type": "execute_result",
          "data": {
            "text/plain": [
              "(3, 4)"
            ]
          },
          "metadata": {
            "tags": []
          },
          "execution_count": 54
        }
      ]
    },
    {
      "metadata": {
        "id": "tBIKQv2HU_RN",
        "colab_type": "text"
      },
      "cell_type": "markdown",
      "source": [
        "Also, python passes mutable objects as references, so function calls make no copy."
      ]
    },
    {
      "metadata": {
        "id": "zobOLJrYVEkm",
        "colab_type": "code",
        "colab": {
          "base_uri": "https://localhost:8080/",
          "height": 68
        },
        "outputId": "b65b6d83-ff94-4fc4-db30-4104e44667e9"
      },
      "cell_type": "code",
      "source": [
        "d = a.copy()                          # a new array object with new data is created\n",
        "d is a\n",
        "\n",
        "d.base is a                           # d doesn't share anything with a\n",
        "\n",
        "d[0,0] = 9999\n",
        "a"
      ],
      "execution_count": 55,
      "outputs": [
        {
          "output_type": "execute_result",
          "data": {
            "text/plain": [
              "array([[ 0,  1,  2,  3],\n",
              "       [ 4,  5,  6,  7],\n",
              "       [ 8,  9, 10, 11]])"
            ]
          },
          "metadata": {
            "tags": []
          },
          "execution_count": 55
        }
      ]
    },
    {
      "metadata": {
        "id": "REVFfMf4JWj7",
        "colab_type": "text"
      },
      "cell_type": "markdown",
      "source": [
        "### Broadcasting\n",
        "\n",
        "Broadcasting is a powerful mechanism that allows numpy to work with arrays of different shapes when performing arithmetic operations. Frequently we have a smaller array and a larger array, and we want to use the smaller array multiple times to perform some operation on the larger array.\n",
        "\n",
        "For example, suppose that we want to add a constant vector to each row of a matrix. We could do it like this:"
      ]
    },
    {
      "metadata": {
        "id": "ml_2cJtZJogJ",
        "colab_type": "code",
        "colab": {
          "base_uri": "https://localhost:8080/",
          "height": 85
        },
        "outputId": "88b9691b-9b5d-41b6-ccae-0beec731af53"
      },
      "cell_type": "code",
      "source": [
        "import numpy as np\n",
        "\n",
        "# We will add the vector v to each row of the matrix x,\n",
        "# storing the result in the matrix y\n",
        "x = np.array([[1,2,3], [4,5,6], [7,8,9], [10, 11, 12]])\n",
        "v = np.array([1, 0, 1])\n",
        "y = np.empty_like(x)   # Create an empty matrix with the same shape as x\n",
        "\n",
        "# Add the vector v to each row of the matrix x with an explicit loop\n",
        "for i in range(4):\n",
        "    y[i, :] = x[i, :] + v\n",
        "\n",
        "# Now y is the following\n",
        "# [[ 2  2  4]\n",
        "#  [ 5  5  7]\n",
        "#  [ 8  8 10]\n",
        "#  [11 11 13]]\n",
        "print(y)"
      ],
      "execution_count": 38,
      "outputs": [
        {
          "output_type": "stream",
          "text": [
            "[[ 2  2  4]\n",
            " [ 5  5  7]\n",
            " [ 8  8 10]\n",
            " [11 11 13]]\n"
          ],
          "name": "stdout"
        }
      ]
    },
    {
      "metadata": {
        "id": "sezNY6MhJ5B6",
        "colab_type": "text"
      },
      "cell_type": "markdown",
      "source": [
        "This works; however when the matrix x is very large, computing an explicit loop in Python could be slow.\n",
        "\n",
        "Numpy broadcasting allows us to perform this computation without having a loop or actually creating multiple copies of v. Consider this version, using broadcasting:\n",
        "\n"
      ]
    },
    {
      "metadata": {
        "id": "Dsgr78FPJoxV",
        "colab_type": "code",
        "colab": {
          "base_uri": "https://localhost:8080/",
          "height": 85
        },
        "outputId": "3c6b5552-3da5-4266-807b-013d64ebb051"
      },
      "cell_type": "code",
      "source": [
        "import numpy as np\n",
        "\n",
        "# We will add the vector v to each row of the matrix x,\n",
        "# storing the result in the matrix y\n",
        "x = np.array([[1,2,3], [4,5,6], [7,8,9], [10, 11, 12]])\n",
        "v = np.array([1, 0, 1])\n",
        "y = x + v  # Add v to each row of x using broadcasting\n",
        "print(y)  # Prints \"[[ 2  2  4]\n",
        "          #          [ 5  5  7]\n",
        "          #          [ 8  8 10]\n",
        "          #          [11 11 13]]\""
      ],
      "execution_count": 39,
      "outputs": [
        {
          "output_type": "stream",
          "text": [
            "[[ 2  2  4]\n",
            " [ 5  5  7]\n",
            " [ 8  8 10]\n",
            " [11 11 13]]\n"
          ],
          "name": "stdout"
        }
      ]
    },
    {
      "metadata": {
        "id": "RFssI50lKxtk",
        "colab_type": "text"
      },
      "cell_type": "markdown",
      "source": [
        "It is very important that you understand how broadcasting works. So, I would suggest that you read [this](https://docs.scipy.org/doc/numpy/user/basics.broadcasting.html) from the documentation."
      ]
    },
    {
      "metadata": {
        "id": "YTvRuzTFWQq4",
        "colab_type": "text"
      },
      "cell_type": "markdown",
      "source": [
        "## Linear Algebra"
      ]
    },
    {
      "metadata": {
        "id": "SvifYANIKZIV",
        "colab_type": "code",
        "colab": {
          "base_uri": "https://localhost:8080/",
          "height": 272
        },
        "outputId": "546c4ed5-96cf-4c78-b223-e06c4ac5c430"
      },
      "cell_type": "code",
      "source": [
        "import numpy as np\n",
        "a = np.array([[1.0, 2.0], [3.0, 4.0]])\n",
        "print(a)\n",
        "\n",
        "\n",
        "\n",
        "print(a.transpose())\n",
        "\n",
        "\n",
        "\n",
        "print(np.linalg.inv(a))\n",
        "\n",
        "\n",
        "\n",
        "u = np.eye(2) # unit 2x2 matrix; \"eye\" represents \"I\"\n",
        "print(u)\n",
        "\n",
        "\n",
        "j = np.array([[0.0, -1.0], [1.0, 0.0]])\n",
        "\n",
        "print(j @ j )       # matrix product\n",
        "\n",
        "\n",
        "\n",
        "print(np.trace(u))  # trace\n",
        "\n",
        "\n",
        "y = np.array([[5.], [7.]])\n",
        "print(np.linalg.solve(a, y))\n",
        "\n",
        "\n",
        "\n",
        "print(np.linalg.eig(j))"
      ],
      "execution_count": 58,
      "outputs": [
        {
          "output_type": "stream",
          "text": [
            "[[1. 2.]\n",
            " [3. 4.]]\n",
            "[[1. 3.]\n",
            " [2. 4.]]\n",
            "[[-2.   1. ]\n",
            " [ 1.5 -0.5]]\n",
            "[[1. 0.]\n",
            " [0. 1.]]\n",
            "[[-1.  0.]\n",
            " [ 0. -1.]]\n",
            "2.0\n",
            "[[-3.]\n",
            " [ 4.]]\n",
            "(array([0.+1.j, 0.-1.j]), array([[0.70710678+0.j        , 0.70710678-0.j        ],\n",
            "       [0.        -0.70710678j, 0.        +0.70710678j]]))\n"
          ],
          "name": "stdout"
        }
      ]
    },
    {
      "metadata": {
        "id": "upVkKIXoX9We",
        "colab_type": "text"
      },
      "cell_type": "markdown",
      "source": [
        "### Calculating the norm of a vector or Matrix\n"
      ]
    },
    {
      "metadata": {
        "id": "Hg8tJshfWg57",
        "colab_type": "code",
        "colab": {
          "base_uri": "https://localhost:8080/",
          "height": 68
        },
        "outputId": "4b139ac7-9f2a-4a8d-b281-8eb37af776db"
      },
      "cell_type": "code",
      "source": [
        "def vector_norm(vector):\n",
        "    squares = [element**2 for element in vector]\n",
        "    return np.sum(squares)**0.5\n",
        "\n",
        "u = np.array([[2,5], [4,3]])\n",
        "print(\"||\", u, \"|| =\")\n",
        "vector_norm(u)"
      ],
      "execution_count": 64,
      "outputs": [
        {
          "output_type": "stream",
          "text": [
            "|| [[2 5]\n",
            " [4 3]] || =\n"
          ],
          "name": "stdout"
        },
        {
          "output_type": "execute_result",
          "data": {
            "text/plain": [
              "7.3484692283495345"
            ]
          },
          "metadata": {
            "tags": []
          },
          "execution_count": 64
        }
      ]
    },
    {
      "metadata": {
        "id": "2UXRKceXYGZ4",
        "colab_type": "code",
        "colab": {
          "base_uri": "https://localhost:8080/",
          "height": 34
        },
        "outputId": "7ee0a668-3afa-43a0-f847-04e0ad001032"
      },
      "cell_type": "code",
      "source": [
        "np.linalg.norm(u)"
      ],
      "execution_count": 62,
      "outputs": [
        {
          "output_type": "execute_result",
          "data": {
            "text/plain": [
              "7.3484692283495345"
            ]
          },
          "metadata": {
            "tags": []
          },
          "execution_count": 62
        }
      ]
    }
  ]
}