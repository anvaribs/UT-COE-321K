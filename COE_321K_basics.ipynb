{
  "nbformat": 4,
  "nbformat_minor": 0,
  "metadata": {
    "colab": {
      "name": "COE 321K-basics.ipynb",
      "version": "0.3.2",
      "provenance": [],
      "collapsed_sections": [],
      "toc_visible": true,
      "include_colab_link": true
    },
    "kernelspec": {
      "name": "python3",
      "display_name": "Python 3"
    }
  },
  "cells": [
    {
      "cell_type": "markdown",
      "metadata": {
        "id": "view-in-github",
        "colab_type": "text"
      },
      "source": [
        "<a href=\"https://colab.research.google.com/github/anvaribs/UT-COE-321K/blob/master/COE_321K_basics.ipynb\" target=\"_parent\"><img src=\"https://colab.research.google.com/assets/colab-badge.svg\" alt=\"Open In Colab\"/></a>"
      ]
    },
    {
      "metadata": {
        "id": "o8v51IzCcJdU",
        "colab_type": "text"
      },
      "cell_type": "markdown",
      "source": [
        "# Announcements:\n",
        "\n",
        "### 1. HW#3 is due on **March 4, 2019**. \n",
        "### 2. Please follow all the guidelines for submitting your assignment. \n",
        "### 3. You should submit your assignment through **Canvas**. \n",
        "### 4. you must submit a PDF (hwX_yourEID.pdf) of your write-up and a zip file including all your source codes through Canvas. Name this zip file **hwX_yourEID.zip**.\n",
        "### 5. You can resubmit your assignment before the deadline.\n",
        "### 6. Only the most recent submission would be graded."
      ]
    },
    {
      "metadata": {
        "id": "SqDP78Lzb6_m",
        "colab_type": "text"
      },
      "cell_type": "markdown",
      "source": [
        "# Google Colab\n",
        "\n",
        "**You can think of Google Colab as Jupyter Notebook stored in google cloud! **\n",
        "\n",
        "1. Everything runs on cloud. You do not have to install or build anything on your local machine. You do not have to be worried about dependencies locally. \n",
        "2. It allows you to share your work with me and other TAs, see [this](https://support.google.com/drive/answer/2494822?co=GENIE.Platform%3DDesktop&hl=en). We can run your code in a completely consistent enviroment and figure out what is going wrong.\n",
        "* For interaction between colab and github see, [Using Colab with GitHub](https://colab.research.google.com/github/googlecolab/colabtools/blob/master/notebooks/colab-github-demo.ipynb)\n",
        "3. You can also use a GPU to run your code.\n",
        "4. You can extend the power of the notebook by installing new libraries using pip install.\n",
        "\n",
        "\n",
        "\n",
        "\n",
        "**Note**: Environmental variables and libraries that you build does not persist accross multiple sessions."
      ]
    },
    {
      "metadata": {
        "id": "N3NikCfUfK62",
        "colab_type": "code",
        "colab": {
          "base_uri": "https://localhost:8080/",
          "height": 51
        },
        "outputId": "69cb6ab6-1cb7-47de-8de8-6024b0df422c"
      },
      "cell_type": "code",
      "source": [
        "print(\"Show available RAM memory:\")\n",
        "!cat /proc/meminfo | grep MemTotal"
      ],
      "execution_count": 5,
      "outputs": [
        {
          "output_type": "stream",
          "text": [
            "Show available RAM memory:\n",
            "MemTotal:       13335276 kB\n"
          ],
          "name": "stdout"
        }
      ]
    },
    {
      "metadata": {
        "id": "ULdNMNuwfmWH",
        "colab_type": "code",
        "colab": {}
      },
      "cell_type": "code",
      "source": [
        "# print(\"Check CPUs info:\")\n",
        "# !cat /proc/cpuinfo"
      ],
      "execution_count": 0,
      "outputs": []
    },
    {
      "metadata": {
        "id": "T6E63Ijxsj0f",
        "colab_type": "code",
        "colab": {}
      },
      "cell_type": "code",
      "source": [
        "!pip install -q matplotlib-venn\n",
        "\n",
        "import matplotlib_venn as venn"
      ],
      "execution_count": 0,
      "outputs": []
    },
    {
      "metadata": {
        "id": "v6hfR_9mh3W2",
        "colab_type": "text"
      },
      "cell_type": "markdown",
      "source": [
        "# A quick intro to Jupyter notebook"
      ]
    },
    {
      "metadata": {
        "id": "Ghea_kxeu-f0",
        "colab_type": "text"
      },
      "cell_type": "markdown",
      "source": [
        "A notebook is a collection of cells. Cells can contain text, or executable code and it's outputs. Text cells use markdown syntax. See this [markdown guide](https://colab.research.google.com/notebooks/markdown_guide.ipynb) to learn more.  "
      ]
    },
    {
      "metadata": {
        "id": "bFWVp2_Auxrm",
        "colab_type": "code",
        "colab": {}
      },
      "cell_type": "code",
      "source": [
        ""
      ],
      "execution_count": 0,
      "outputs": []
    },
    {
      "metadata": {
        "id": "OAij1Efph8N6",
        "colab_type": "text"
      },
      "cell_type": "markdown",
      "source": [
        "## This is a heading.\n",
        "\n",
        "You can have lists as well.\n",
        "- first item\n",
        "- second item\n",
        "- third item\n",
        "\n",
        "You can easily include Math formulas as well.\n",
        "\n",
        "$$\n",
        "\\int_0^\\pi \\sin^2(2x)\n",
        "$$\n",
        "\n",
        "Or for example, you can include matrices like this:\n",
        "\n",
        "$$A_{m,n} =\n",
        " \\begin{pmatrix}\n",
        "  a_{1,1} & a_{1,2} & \\cdots & a_{1,n} \\\\\n",
        "  a_{2,1} & a_{2,2} & \\cdots & a_{2,n} \\\\\n",
        "  \\vdots  & \\vdots  & \\ddots & \\vdots  \\\\\n",
        "  a_{m,1} & a_{m,2} & \\cdots & a_{m,n}\n",
        " \\end{pmatrix}$$\n",
        " \n"
      ]
    },
    {
      "metadata": {
        "id": "A-x-2FFQeHrV",
        "colab_type": "text"
      },
      "cell_type": "markdown",
      "source": [
        "# Introduction to Python and Numpy"
      ]
    },
    {
      "metadata": {
        "id": "6n-blB9yugAd",
        "colab_type": "code",
        "colab": {
          "base_uri": "https://localhost:8080/",
          "height": 51
        },
        "outputId": "4f4f6d9c-41a5-44c6-9a63-3a90e0b92580"
      },
      "cell_type": "code",
      "source": [
        "# Let's define a variable\n",
        "a = 250\n",
        "print(a)\n",
        "print(type(a))"
      ],
      "execution_count": 19,
      "outputs": [
        {
          "output_type": "stream",
          "text": [
            "250\n",
            "<class 'int'>\n"
          ],
          "name": "stdout"
        }
      ]
    },
    {
      "metadata": {
        "id": "vvzB_0TmbgZj",
        "colab_type": "code",
        "colab": {}
      },
      "cell_type": "code",
      "source": [
        "x = range(10)"
      ],
      "execution_count": 0,
      "outputs": []
    },
    {
      "metadata": {
        "id": "r4F50LVahcyU",
        "colab_type": "code",
        "colab": {
          "base_uri": "https://localhost:8080/",
          "height": 187
        },
        "outputId": "a673d89c-27cb-4a25-9f9e-a76bc43d5040"
      },
      "cell_type": "code",
      "source": [
        "for i in x:\n",
        "  print(i**2)"
      ],
      "execution_count": 12,
      "outputs": [
        {
          "output_type": "stream",
          "text": [
            "0\n",
            "1\n",
            "4\n",
            "9\n",
            "16\n",
            "25\n",
            "36\n",
            "49\n",
            "64\n",
            "81\n"
          ],
          "name": "stdout"
        }
      ]
    },
    {
      "metadata": {
        "id": "gWfhrWzKhf-c",
        "colab_type": "code",
        "colab": {}
      },
      "cell_type": "code",
      "source": [
        ""
      ],
      "execution_count": 0,
      "outputs": []
    }
  ]
}