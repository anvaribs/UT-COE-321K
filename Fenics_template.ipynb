{
  "nbformat": 4,
  "nbformat_minor": 0,
  "metadata": {
    "colab": {
      "name": "Fenics_template.ipynb",
      "version": "0.3.2",
      "provenance": [],
      "collapsed_sections": [],
      "toc_visible": true,
      "include_colab_link": true
    },
    "kernelspec": {
      "name": "python3",
      "display_name": "Python 3"
    }
  },
  "cells": [
    {
      "cell_type": "markdown",
      "metadata": {
        "id": "view-in-github",
        "colab_type": "text"
      },
      "source": [
        "<a href=\"https://colab.research.google.com/github/anvaribs/UT-COE-321K/blob/master/Fenics_template.ipynb\" target=\"_parent\"><img src=\"https://colab.research.google.com/assets/colab-badge.svg\" alt=\"Open In Colab\"/></a>"
      ]
    },
    {
      "metadata": {
        "id": "Pp4MM-33l_YS",
        "colab_type": "text"
      },
      "cell_type": "markdown",
      "source": [
        "## COE 321K: Template FEniCS notebook\n",
        "\n"
      ]
    },
    {
      "metadata": {
        "id": "cExGXg9z8A_r",
        "colab_type": "text"
      },
      "cell_type": "markdown",
      "source": [
        "This notebook is meant to be a template for you to use while coding using the fenics framework. The first cell is meant to be run as-is and takes care of configuring the environment for you. You can start from the second cell and implement the solver for your own problem."
      ]
    },
    {
      "metadata": {
        "id": "-6QptgpcqKtw",
        "colab_type": "text"
      },
      "cell_type": "markdown",
      "source": [
        "### Setup environment"
      ]
    },
    {
      "metadata": {
        "id": "8A1ZaXJ88D7d",
        "colab_type": "code",
        "cellView": "both",
        "colab": {}
      },
      "cell_type": "code",
      "source": [
        "#@title\n",
        "# Setup system environment and define utility functions and variables\n",
        "from google.colab import files\n",
        "try:\n",
        "    from dolfin import *; from mshr import *\n",
        "except ImportError as e:\n",
        "    !apt-get install -y -qq software-properties-common python-software-properties module-init-tools\n",
        "    !add-apt-repository -y ppa:fenics-packages/fenics\n",
        "    !apt-get update -qq\n",
        "    !sed -e 's:artful:bionic:' /etc/apt/sources.list.d/fenics-packages-ubuntu-fenics-artful.list > temp\n",
        "    !mv temp /etc/apt/sources.list.d/fenics-packages-ubuntu-fenics-artful.list\n",
        "    !sed -e 's:artful:bionic:' /etc/apt/sources.list > temp\n",
        "    !mv temp /etc/apt/sources.list\n",
        "    !apt-get update -qq\n",
        "    !apt install -y --no-install-recommends fenics    \n",
        "    from dolfin import *; from mshr import *\n",
        "    \n",
        "import matplotlib.pyplot as plt\n",
        "from IPython.display import clear_output, display, update_display\n",
        "import time\n",
        "import dolfin.common.plotting as fenicsplot \n",
        "\n",
        "def plot_compact(u, t, stepcounter, QQ, pl, ax, soltit = \"Velocity\"): # Compact plot utility function\n",
        "  if stepcounter == 0:\n",
        "    pl, ax = plt.subplots(); display(pl); clear_output(); # Plotting setup\n",
        "  if stepcounter % 5 == 0:\n",
        "    #u.set_allow_extrapolation(True)\n",
        "    uEuclidnorm = project(sqrt(inner(u, u)), QQ)\n",
        "    ax.cla()\n",
        "    fig = plt.gcf()\n",
        "    fig.set_size_inches(16, 4)\n",
        "    plt.subplot(1, 2, 1)\n",
        "    pp = plot(uEuclidnorm, cmap=\"coolwarm\")\n",
        "    plt.title(\"%s at t=%f\" % (soltit, t)) # Plot norm of solution\n",
        "    if t == 0:\n",
        "      plt.axis(G)\n",
        "      plt.colorbar(pp, shrink=0.5)\n",
        "    plt.subplot(1, 2, 2);\n",
        "    if t == 0:\n",
        "      plot(QQ.mesh())\n",
        "      plt.title(\"Mesh\") # Plot mesh\n",
        "    plt.tight_layout(); dpl = display(pl, display_id=\"test\");\n",
        "  \n",
        "  return (pl, ax)\n",
        "\n",
        "def plot_compact_static(u, QQ, label = \"Velocity\"): # Compact plot utility function\n",
        "  pl, ax = plt.subplots();\n",
        "  uEuclidnorm = project(sqrt(inner(u, u)), QQ); ax.cla(); fig = plt.gcf(); fig.set_size_inches(16, 4)\n",
        "  plt.subplot(1, 2, 1); pp = plot(uEuclidnorm, cmap=\"coolwarm\"); plt.title(\"%s\" % (label)) # Plot norm of velocity\n",
        "  plt.axis(G); plt.colorbar(pp, shrink=0.5); \n",
        "  plt.subplot(1, 2, 2);\n",
        "  plot(QQ.mesh()); plt.title(\"Mesh\") # Plot mesh\n",
        "  plt.tight_layout(); dpl = display(pl, display_id=\"test\");\n",
        "  \n",
        "  return (pl, ax)\n",
        "\n"
      ],
      "execution_count": 0,
      "outputs": []
    },
    {
      "metadata": {
        "id": "a5thMeNv6cuG",
        "colab_type": "code",
        "colab": {
          "base_uri": "https://localhost:8080/",
          "height": 35
        },
        "outputId": "de4e939d-1cbe-4a6f-a7ac-0c55b330296c"
      },
      "cell_type": "code",
      "source": [
        "import matplotlib.pyplot as plt\n",
        "from __future__ import print_function\n",
        "import dolfin\n",
        "print(dolfin.__version__)\n",
        "%matplotlib inline\n",
        "from fenics import *\n",
        "plt.style.use('default')"
      ],
      "execution_count": 10,
      "outputs": [
        {
          "output_type": "stream",
          "text": [
            "2018.1.0\n"
          ],
          "name": "stdout"
        }
      ]
    },
    {
      "metadata": {
        "id": "or3TH8gVmxYJ",
        "colab_type": "code",
        "outputId": "9ecb7e47-3547-4a3c-84c0-735be4baa798",
        "colab": {
          "base_uri": "https://localhost:8080/",
          "height": 904
        }
      },
      "cell_type": "code",
      "source": [
        "## %load ../fenics-tutorial/pub/python/vol1/ft01_poisson.py\n",
        "\"\"\"\n",
        "FEniCS tutorial demo program: Poisson equation with Dirichlet conditions.\n",
        "Test problem is chosen to give an exact solution at all nodes of the mesh.\n",
        "\n",
        "  -Laplace(u) = f    in the unit square\n",
        "            u = u_D  on the boundary\n",
        "\n",
        "  u_D = 1 + x^2 + 2y^2\n",
        "    f = -6\n",
        "\"\"\"\n",
        "\n",
        "\n",
        "# Create mesh and define function space (128 linear elements)\n",
        "# in this case error_max = 1.33226762955e-15\n",
        "mesh = UnitSquareMesh(8, 8)\n",
        "V = FunctionSpace(mesh, 'P', 1)  # 'P' implies the standard lagrange Family of element\n",
        "\n",
        "# Create mesh and define function space (2 x (20x20) cubic lagrange elements)\n",
        "# in this case error_max = 2.06612504883e-12\n",
        "# mesh = UnitSquareMesh(20,20)\n",
        "# V = FunctionSpace(mesh, 'P', 3)  # 'P' implies the standard lagrange Family of element\n",
        "\n",
        "\n",
        "# Define boundary condition\n",
        "# we use deggree = 2 so that u_D may represent the \n",
        "# exact quadratic solution to our test problem.\n",
        "\n",
        "u_D = Expression('1 + x[0]*x[0] + 2*x[1]*x[1]', degree=2)\n",
        "\n",
        "# Not a good programming practice:\n",
        "# def boundary(x):\n",
        "#     return x[0] == 0 or x[1] == 0 or x[0] == 1 or x[1] == 1\n",
        "\n",
        "\n",
        "# tol = 1E-14    # DOLFIN_EPS can also be used\n",
        "# def boundary(x):\n",
        "#     return abs(x[0]) < tol or abs(x[1]) < tol \\\n",
        "#         or abs(x[0] - 1) < tol or abs(x[1] - 1) < tol\n",
        "\n",
        "def boundary(x, on_boundary):\n",
        "    return on_boundary\n",
        "\n",
        "bc = DirichletBC(V, u_D, boundary)\n",
        "\n",
        "# Define variational problem\n",
        "u = TrialFunction(V)\n",
        "v = TestFunction(V)\n",
        "# f = Expression(’-6’, degree=0)\n",
        "f = Constant(-6.0)\n",
        "a = dot(grad(u), grad(v))*dx\n",
        "L = f*v*dx\n",
        "\n",
        "# Compute solution\n",
        "u = Function(V)\n",
        "solve(a == L, u, bc)\n",
        "\n",
        "# Plot solution and mesh\n",
        "plot(u, title='Finite Element Solution')\n",
        "plt.show()\n",
        "plot(mesh)\n",
        "plt.show()\n",
        "\n",
        "# Save solution to file in VTK format\n",
        "vtkfile = File('poisson/solution.pvd')\n",
        "vtkfile << u\n",
        "\n",
        "# Compute error in L2 norm\n",
        "# since the exact solution is quadratic and the FEM\n",
        "# solution is piecewise linear, the error would be non-zero\n",
        "error_L2 = errornorm(u_D, u, 'L2')   \n",
        "\n",
        "# Compute maximum error at vertices\n",
        "# We expect this error to be zero within machine precision\n",
        "vertex_values_u_D = u_D.compute_vertex_values(mesh)\n",
        "vertex_values_u = u.compute_vertex_values(mesh)\n",
        "import numpy as np\n",
        "error_max = np.max(np.abs(vertex_values_u_D - vertex_values_u))\n",
        "\n",
        "# Print errors\n",
        "print('error_L2  =', error_L2)\n",
        "print('error_max =', error_max)\n",
        "\n",
        "# Hold plot\n",
        "plt.show()\n"
      ],
      "execution_count": 11,
      "outputs": [
        {
          "output_type": "display_data",
          "data": {
            "image/png": "[encoded data removed]",
            "text/plain": [
              "<Figure size 640x480 with 1 Axes>"
            ]
          },
          "metadata": {
            "tags": []
          }
        },
        {
          "output_type": "display_data",
          "data": {
            "image/png": "[encoded data removed]",
            "text/plain": [
              "<Figure size 640x480 with 1 Axes>"
            ]
          },
          "metadata": {
            "tags": []
          }
        },
        {
          "output_type": "stream",
          "text": [
            "error_L2  = 0.008235098073354827\n",
            "error_max = 1.3322676295501878e-15\n"
          ],
          "name": "stdout"
        }
      ]
    },
    {
      "metadata": {
        "id": "zJv_rNDWm5Py",
        "colab_type": "code",
        "colab": {
          "base_uri": "https://localhost:8080/",
          "height": 251
        },
        "outputId": "41f3152e-ccb3-4e74-d8f6-74bac90affe2"
      },
      "cell_type": "code",
      "source": [
        "#\n",
        "# ..    # gedit: set fileencoding=utf8 :\n",
        "# .. raw:: html\n",
        "#\n",
        "#  <a rel=\"license\" href=\"http://creativecommons.org/licenses/by-sa/4.0/\"><p align=\"center\"><img alt=\"Creative Commons License\" style=\"border-width:0\" src=\"https://i.creativecommons.org/l/by-sa/4.0/88x31.png\"/></a><br />This work is licensed under a <a rel=\"license\" href=\"http://creativecommons.org/licenses/by-sa/4.0/\">Creative Commons Attribution-ShareAlike 4.0 International License</a></p>\n",
        "#\n",
        "#\n",
        "# .. _LinearElasticity2D:\n",
        "#\n",
        "# =========================\n",
        "#  2D linear elasticity\n",
        "# =========================\n",
        "#\n",
        "#\n",
        "# Introduction\n",
        "# ------------\n",
        "#\n",
        "# In this first numerical tour, we will show how to compute a small strain solution for\n",
        "# a 2D isotropic linear elastic medium, either in plane stress or in plane strain,\n",
        "# in a tradtional displacement-based finite element formulation. The corresponding\n",
        "# file can be obtained from :download:`2D_elasticity.py`.\n",
        "#\n",
        "# .. seealso::\n",
        "#\n",
        "#  Extension to 3D is straightforward and an example can be found in the :ref:`ModalAnalysis` example.\n",
        "#\n",
        "# We consider here the case of a cantilever beam modeled as a 2D medium of dimensions\n",
        "# :math:`L\\times  H`. Geometrical parameters and mesh density are first defined\n",
        "# and the rectangular domain is  generated using the ``RectangleMesh`` function.\n",
        "# We also choose a criss-crossed structured mesh::\n",
        "\n",
        "from __future__ import print_function\n",
        "from fenics import *\n",
        "\n",
        "L = 25.\n",
        "H = 1.\n",
        "Nx = 250\n",
        "Ny = 10\n",
        "mesh = RectangleMesh(Point(0., 0.), Point(L, H), Nx, Ny, \"crossed\")\n",
        "\n",
        "\n",
        "# Constitutive relation\n",
        "# ---------------------\n",
        "#\n",
        "# We now define the material parameters which are here given in terms of a Young's\n",
        "# modulus :math:`E` and a Poisson coefficient :math:`\\nu`. In the following, we will\n",
        "# need to define the constitutive relation between the stress tensor :math:`\\boldsymbol{\\sigma}`\n",
        "# and the strain tensor :math:`\\boldsymbol{\\varepsilon}`. Let us recall\n",
        "# that the general expression of the linear elastic isotropic constitutive relation\n",
        "# for a 3D medium is given by:\n",
        "#\n",
        "# .. math::\n",
        "#  \\boldsymbol{\\sigma} = \\lambda \\text{tr}(\\boldsymbol{\\varepsilon})\\mathbf{1} + 2\\mu\\boldsymbol{\\varepsilon}\n",
        "#  :label: constitutive_3D\n",
        "#\n",
        "# for a natural (no prestress) initial state where the Lamé coefficients are given by:\n",
        "#\n",
        "# .. math::\n",
        "#  \\lambda = \\dfrac{E\\nu}{(1+\\nu)(1-2\\nu)}, \\quad \\mu = \\dfrac{E}{2(1+\\nu)}\n",
        "#  :label: Lame_coeff\n",
        "#\n",
        "# In this demo, we consider a 2D model either in plane strain or in plane stress conditions.\n",
        "# Irrespective of this choice, we will work only with a 2D displacement vector :math:`\\boldsymbol{u}=(u_x,u_y)`\n",
        "# and will subsequently define the strain operator ``eps`` as follows::\n",
        "\n",
        "def eps(v):\n",
        "    return sym(grad(v))\n",
        "\n",
        "# which computes the 2x2 plane components of the symmetrized gradient tensor of\n",
        "# any 2D vectorial field. In the plane strain case, the full 3D strain tensor is defined as follows:\n",
        "#\n",
        "# .. math::\n",
        "#  \\boldsymbol{\\varepsilon} = \\begin{bmatrix} \\varepsilon_{xx} & \\varepsilon_{xy} & 0\\\\\n",
        "#  \\varepsilon_{xy} & \\varepsilon_{yy} & 0 \\\\ 0 & 0 & 0\\end{bmatrix}\n",
        "#\n",
        "# so that the 2x2 plane part of the stress tensor is defined in the same way as for the 3D case\n",
        "# (the out-of-plane stress component being given by :math:`\\sigma_{zz}=\\lambda(\\varepsilon_{xx}+\\varepsilon_{yy})`.\n",
        "#\n",
        "# In the plane stress case, an out-of-plane strain component :math:`\\varepsilon_{zz}`\n",
        "# must be considered so that :math:`\\sigma_{zz}=0`. Using this condition in the\n",
        "# 3D constitutive relation, one has :math:`\\varepsilon_{zz}=-\\dfrac{\\lambda}{\\lambda+2\\mu}(\\varepsilon_{xx}+\\varepsilon_{yy})`.\n",
        "# Injecting into :eq:`constitutive_3D`, we have for the 2D plane stress relation:\n",
        "#\n",
        "# .. math::\n",
        "#  \\boldsymbol{\\sigma} = \\lambda^* \\text{tr}(\\boldsymbol{\\varepsilon})\\mathbf{1} + 2\\mu\\boldsymbol{\\varepsilon}\n",
        "#\n",
        "# where :math:`\\boldsymbol{\\sigma}, \\boldsymbol{\\varepsilon}, \\mathbf{1}` are 2D tensors and with\n",
        "# :math:`\\lambda^* = \\dfrac{2\\lambda\\mu}{\\lambda+2\\mu}`. Hence, the 2D constitutive relation\n",
        "# is identical to the plane strain case by changing only the value of the Lamé coefficient :math:`\\lambda`.\n",
        "# We can then have::\n",
        "\n",
        "E = Constant(1e5)\n",
        "nu = Constant(0.3)\n",
        "model = \"plane_stress\"\n",
        "\n",
        "mu = E/2/(1+nu)\n",
        "lmbda = E*nu/(1+nu)/(1-2*nu)\n",
        "if model == \"plane_stress\":\n",
        "    lmbda = 2*mu*lmbda/(lmbda+2*mu)\n",
        "\n",
        "def sigma(v):\n",
        "    return lmbda*tr(eps(v))*Identity(2) + 2.0*mu*eps(v)\n",
        "\n",
        "# .. note::\n",
        "#  Note that we used the variable name ``lmbda`` to avoid any confusion with the\n",
        "#  lambda functions of Python\n",
        "#\n",
        "#  We also used an intrinsic formulation of the constitutive relation. Example of\n",
        "#  constitutive relation implemented with a matrix/vector engineering notation\n",
        "#  will be provided in the :ref:`OrthotropicElasticity` example.\n",
        "#\n",
        "#\n",
        "# Variational formulation\n",
        "# -----------------------\n",
        "#\n",
        "# For this example, we consider a continuous polynomial interpolation of degree 2\n",
        "# and a uniformly distributed loading :math:`\\boldsymbol{f}=(0,-f)` corresponding\n",
        "# to the beam self-weight. The continuum mechanics variational formulation (obtained\n",
        "# from the virtual work principle) is given by:\n",
        "#\n",
        "# .. math::\n",
        "#  \\text{Find } \\boldsymbol{u}\\in V \\text{ s.t. } \\int_{\\Omega}\n",
        "#  \\boldsymbol{\\sigma}(\\boldsymbol{u}):\\boldsymbol{\\varepsilon}(\\boldsymbol{v}) d\\Omega\n",
        "#  = \\int_{\\Omega} \\boldsymbol{f}\\cdot\\boldsymbol{v}  d\\Omega \\quad \\forall\\boldsymbol{v} \\in V\n",
        "#\n",
        "# which translates into the following FEniCS code::\n",
        "\n",
        "rho_g = 1e-3\n",
        "f = Constant((0,-rho_g))\n",
        "\n",
        "V = VectorFunctionSpace(mesh, 'Lagrange', degree=2)\n",
        "du = TrialFunction(V)\n",
        "u_ = TestFunction(V)\n",
        "a = inner(sigma(du), eps(u_))*dx\n",
        "l = inner(f, u_)*dx\n",
        "\n",
        "\n",
        "# Resolution\n",
        "# ----------\n",
        "#\n",
        "# Fixed displacements are imposed on the left part of the beam, the ``solve``\n",
        "# function is then called and solution is plotted by deforming the mesh::\n",
        "\n",
        "def left(x, on_boundary):\n",
        "    return near(x[0],0.)\n",
        "\n",
        "bc = DirichletBC(V, Constant((0.,0.)), left)\n",
        "\n",
        "u = Function(V, name=\"Displacement\")\n",
        "solve(a == l, u, bc)\n",
        "\n",
        "plot(1e3*u, mode=\"displacement\")\n",
        "plt.show()\n",
        "\n",
        "# The (amplified) solution should look like this:\n",
        "#\n",
        "# .. image:: cantilever_deformed.png\n",
        "#    :scale: 15%\n",
        "#\n",
        "#\n",
        "# Validation and post-processing\n",
        "# ------------------------------\n",
        "#\n",
        "# The maximal deflection is compared against the analytical solution from\n",
        "# Euler-Bernoulli beam theory which is here :math:`w_{beam} = \\dfrac{qL^4}{8EI}`::\n",
        "\n",
        "print(\"Maximal deflection:\", -u(L,H/2.)[1])\n",
        "print(\"Beam theory deflection:\", float(3*rho_g*L**4/2/E/H**3))\n",
        "\n",
        "# One finds :math:`w_{FE} = 5.8638\\text{e-3}` against :math:`w_{beam} = 5.8594\\text{e-3}`\n",
        "# that is a 0.07% difference.\n",
        "#\n",
        "#\n",
        "# The stress tensor must be projected on an appropriate function space in order to\n",
        "# evaluate pointwise values or export it for Paraview vizualisation. Here we choose\n",
        "# to describe it as a (2D) tensor and project it onto a piecewise constant function\n",
        "# space::\n",
        "\n",
        "Vsig = TensorFunctionSpace(mesh, \"DG\", degree=0)\n",
        "sig = Function(Vsig, name=\"Stress\")\n",
        "sig.assign(project(sigma(u), Vsig))\n",
        "print(\"Stress at (0,H):\", sig(0, H))\n",
        "\n",
        "# Fields can be exported in a suitable format for vizualisation using Paraview.\n",
        "# VTK-based extensions (.pvd,.vtu) are not suited for multiple fields and parallel\n",
        "# writing/reading. Prefered output format is now .xdmf::\n",
        "\n",
        "file_results = XDMFFile(\"comet_elasticity_results/elasticity_results.xdmf\")\n",
        "file_results.parameters[\"flush_output\"] = True\n",
        "file_results.parameters[\"functions_share_mesh\"] = True\n",
        "file_results.write(u, 0.)\n",
        "file_results.write(sig, 0.)\n"
      ],
      "execution_count": 12,
      "outputs": [
        {
          "output_type": "display_data",
          "data": {
            "image/png": "[encoded data removed]",
            "text/plain": [
              "<Figure size 640x480 with 1 Axes>"
            ]
          },
          "metadata": {
            "tags": []
          }
        },
        {
          "output_type": "stream",
          "text": [
            "Maximal deflection: 0.0058637525873285025\n",
            "Beam theory deflection: 0.005859375\n",
            "Stress at (0,H): [ 1.72741309 -0.22361947 -0.22361947  0.40196748]\n"
          ],
          "name": "stdout"
        }
      ]
    },
    {
      "metadata": {
        "id": "pzQxMviaorCB",
        "colab_type": "code",
        "colab": {}
      },
      "cell_type": "code",
      "source": [
        ""
      ],
      "execution_count": 0,
      "outputs": []
    }
  ]
}